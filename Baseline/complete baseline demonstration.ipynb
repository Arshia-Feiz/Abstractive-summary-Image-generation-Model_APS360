{
 "cells": [
  {
   "cell_type": "markdown",
   "metadata": {},
   "source": [
    "Download the followings in your prompt if you are using local environment"
   ]
  },
  {
   "cell_type": "code",
   "execution_count": null,
   "metadata": {
    "colab": {
     "base_uri": "https://localhost:8080/"
    },
    "id": "NiSFT66LHIPP",
    "outputId": "14171d5a-289d-42f0-d3ae-0944eeb328d8",
    "scrolled": true
   },
   "outputs": [],
   "source": [
    "pip install datasets\n"
   ]
  },
  {
   "cell_type": "code",
   "execution_count": null,
   "metadata": {
    "colab": {
     "base_uri": "https://localhost:8080/"
    },
    "id": "KS0aP-ZSN-5G",
    "outputId": "4de7e6ec-a67d-487a-ab28-436d5a7d64ee",
    "scrolled": true
   },
   "outputs": [],
   "source": [
    "!pip install huggingface_hub datasets\n"
   ]
  },
  {
   "cell_type": "markdown",
   "metadata": {},
   "source": [
    "Go to https://huggingface.co/, register an acc, click on ur profile and find setting, go to \"access  tokens\" tab, create your own token, then paste the token link in the login session"
   ]
  },
  {
   "cell_type": "code",
   "execution_count": 4,
   "metadata": {
    "colab": {
     "base_uri": "https://localhost:8080/",
     "height": 17,
     "referenced_widgets": [
      "edf351e685ed4162a9cd56a67bf2f77c",
      "9ba04548595148d1b82bd9c3c4ff25e6",
      "5a32d2be2cb3428eaa9a28dc67acf88d",
      "298d1a3f55bd4d468638f36099b38b28",
      "9682fdf66161486896d138a14bc6ca99",
      "3d75583d13a1405e9ef694fccc1394b5",
      "edf8a6859e924804a25d842af099360d",
      "81713535813949b59afa2a2a110f1ad8",
      "a603195912644286a5b1a3e73ecb5d33",
      "bdb0fd7012d7457ea469e94e0e95b8a1",
      "f778ff8f9ee6422fb5346ee3c764a94a",
      "0d29a7230f424d989b3557e1765f4801",
      "3efab549bbdb4fb6a287cf95fa7d1179",
      "27914e82483d477da325998e4582c1fa",
      "50ee5550c8884da38765956650f89661",
      "f60a4b2da71d45f2912283e3a2fe0100",
      "66a66990d20344fc91b925c7eedb611a",
      "1063e17d88db4d9183c67adc5cec86a3",
      "9176015d2d4041c3b15550a37618a2e1",
      "89870024fbbe4b428d437ca0a18dee6d"
     ]
    },
    "id": "yk9jlXGtNugs",
    "outputId": "a3e4dbe3-1717-48ce-a816-a4b63bfca566",
    "scrolled": false
   },
   "outputs": [
    {
     "data": {
      "application/vnd.jupyter.widget-view+json": {
       "model_id": "baea904af6274cbb8bd78b88b17a15fc",
       "version_major": 2,
       "version_minor": 0
      },
      "text/plain": [
       "VBox(children=(HTML(value='<center> <img\\nsrc=https://huggingface.co/front/assets/huggingface_logo-noborder.sv…"
      ]
     },
     "metadata": {},
     "output_type": "display_data"
    }
   ],
   "source": [
    "from huggingface_hub import hf_hub_download\n",
    "from huggingface_hub import login\n",
    "\n",
    "login()\n",
    "\n",
    "import json\n",
    "\n"
   ]
  },
  {
   "cell_type": "code",
   "execution_count": null,
   "metadata": {
    "colab": {
     "base_uri": "https://localhost:8080/"
    },
    "id": "_p-d6YoJPCSR",
    "outputId": "84d91440-f342-4b2d-b700-bc228827e533",
    "scrolled": true
   },
   "outputs": [],
   "source": [
    "!git clone https://huggingface.co/datasets/kdave/Indian_Financial_News\n"
   ]
  },
  {
   "cell_type": "markdown",
   "metadata": {},
   "source": [
    "If the git clone block doesnt work, use this one"
   ]
  },
  {
   "cell_type": "code",
   "execution_count": 5,
   "metadata": {
    "scrolled": false
   },
   "outputs": [
    {
     "data": {
      "application/vnd.jupyter.widget-view+json": {
       "model_id": "25576e0d784f42f3ae82a35cc8c0a15c",
       "version_major": 2,
       "version_minor": 0
      },
      "text/plain": [
       "Downloading readme: 0.00B [00:00, ?B/s]"
      ]
     },
     "metadata": {},
     "output_type": "display_data"
    }
   ],
   "source": [
    "from datasets import load_dataset\n",
    "\n",
    "dataset = load_dataset(\"kdave/Indian_Financial_News\")"
   ]
  },
  {
   "cell_type": "code",
   "execution_count": null,
   "metadata": {
    "colab": {
     "base_uri": "https://localhost:8080/"
    },
    "id": "Pit8poS3QHlX",
    "outputId": "5b6f0cca-d042-4492-a5d7-4ad2dbfccb51",
    "scrolled": true
   },
   "outputs": [],
   "source": [
    "import pandas as pd\n",
    "from datasets import Dataset\n",
    "\n",
    "df = pd.read_csv(\"Indian_Financial_News/training_data_26000.csv\")\n",
    "print(df.columns)\n"
   ]
  },
  {
   "cell_type": "markdown",
   "metadata": {},
   "source": [
    "Run this one if imported from dataset instead of git clone"
   ]
  },
  {
   "cell_type": "code",
   "execution_count": 6,
   "metadata": {},
   "outputs": [
    {
     "name": "stdout",
     "output_type": "stream",
     "text": [
      "Index(['URL', 'Content', 'Summary', 'Sentiment'], dtype='object')\n",
      "                                                 URL  \\\n",
      "0  https://www.moneycontrol.com/news/business/eco...   \n",
      "1  https://www.businesstoday.in/top-story/state-r...   \n",
      "2  https://www.financialexpress.com/economy/covid...   \n",
      "3  https://www.moneycontrol.com/news/business/mar...   \n",
      "4  https://www.financialexpress.com/industry/six-...   \n",
      "\n",
      "                                             Content  \\\n",
      "0  US consumer spending dropped by a record in Ap...   \n",
      "1  State-run lenders require an urgent Rs 1.2 tri...   \n",
      "2  Apparel exporters on Wednesday urged the gover...   \n",
      "3  Asian shares battled to extend a global reboun...   \n",
      "4  After India’s sovereign credit rating fell to ...   \n",
      "\n",
      "                                             Summary Sentiment  \n",
      "0  consumer spending plunges 13.6 percent in Apri...  Negative  \n",
      "1  government will have to take a bulk of the tab...  Negative  \n",
      "2  exporters are facing issues in terms of raw ma...  Negative  \n",
      "3  the dollar loses some ground on the safe haven...  Negative  \n",
      "4  six Indian public-sector undertakings have tak...  Negative  \n"
     ]
    }
   ],
   "source": [
    "import pandas as pd\n",
    "\n",
    "df = dataset[\"train\"].to_pandas()\n",
    "print(df.columns)\n",
    "print(df.head())"
   ]
  },
  {
   "cell_type": "code",
   "execution_count": 8,
   "metadata": {
    "colab": {
     "base_uri": "https://localhost:8080/"
    },
    "id": "0pRd8An6QScT",
    "outputId": "d00f6545-77c3-4ec2-b103-c16015a028d9",
    "scrolled": true
   },
   "outputs": [
    {
     "name": "stdout",
     "output_type": "stream",
     "text": [
      "{'URL': 'https://www.moneycontrol.com/news/business/economy/covid-19-pandemic-us-consumer-spending-tumble-in-april-5334861.html', 'Content': 'US consumer spending dropped by a record in April as the COVID-19 pandemic undercut demand, buttressing expectations that the economy could contract in the second quarter at its steepest pace since the Great Depression.\\n\\nThe Commerce Department said on Friday consumer spending, which accounts for more than two-thirds of U.S. economic activity, plunged 13.6 percent last month. That was the biggest drop since the government started tracking series in 1959, and followed a 6.9 percent tumble in March.\\n\\nEconomists polled by Reuters had forecast consumer spending plummeting 12.6 percent in April.\\n\\nFollow our full coverage of the coronavirus pandemic here.', 'Summary': 'consumer spending plunges 13.6 percent in April. that was the biggest drop since the government started tracking series in 1959. consumer spending accounts for more than two-thirds of economic activity. economists polled by Reuters had forecast consumer spending plummeting 12.6 percent. a spokesman for the u.s. government said the data was not available.', 'Sentiment': 'Negative'}\n"
     ]
    }
   ],
   "source": [
    "from datasets import Dataset\n",
    "\n",
    "ds = Dataset.from_pandas(df)\n",
    "print(ds[0])\n"
   ]
  },
  {
   "cell_type": "code",
   "execution_count": 9,
   "metadata": {
    "colab": {
     "base_uri": "https://localhost:8080/"
    },
    "id": "tOC3t3OOQ2vD",
    "outputId": "c6cb3000-1a34-4b15-c6c0-9445477549af"
   },
   "outputs": [
    {
     "name": "stdout",
     "output_type": "stream",
     "text": [
      "Number of records: 26961\n",
      "Columns: ['URL', 'Content', 'Summary', 'Sentiment']\n"
     ]
    }
   ],
   "source": [
    "print(\"Number of records:\", len(ds))\n",
    "print(\"Columns:\", ds.column_names)\n"
   ]
  },
  {
   "cell_type": "code",
   "execution_count": 10,
   "metadata": {
    "colab": {
     "base_uri": "https://localhost:8080/"
    },
    "id": "ePjwpaZKQ9b4",
    "outputId": "c61648c4-3076-495c-b514-1096de42e20b",
    "scrolled": true
   },
   "outputs": [
    {
     "name": "stdout",
     "output_type": "stream",
     "text": [
      "\n",
      "Summary Stats:\n",
      "  Avg length: 61.362115648529354\n",
      "  Min length: 1\n",
      "  Max length: 108\n",
      "\n",
      "Content Stats:\n",
      "  Avg length: 609.7049070880161\n",
      "  Min length: 9\n",
      "  Max length: 8328\n"
     ]
    }
   ],
   "source": [
    "summary_lengths = [len(x.split()) for x in ds['Summary'] if isinstance(x, str)]\n",
    "content_lengths = [len(x.split()) for x in ds['Content'] if isinstance(x, str)]\n",
    "\n",
    "import numpy as np\n",
    "\n",
    "print(\"\\nSummary Stats:\")\n",
    "print(\"  Avg length:\", np.mean(summary_lengths))\n",
    "print(\"  Min length:\", np.min(summary_lengths))\n",
    "print(\"  Max length:\", np.max(summary_lengths))\n",
    "\n",
    "print(\"\\nContent Stats:\")\n",
    "print(\"  Avg length:\", np.mean(content_lengths))\n",
    "print(\"  Min length:\", np.min(content_lengths))\n",
    "print(\"  Max length:\", np.max(content_lengths))\n"
   ]
  },
  {
   "cell_type": "code",
   "execution_count": 11,
   "metadata": {
    "colab": {
     "base_uri": "https://localhost:8080/",
     "height": 98,
     "referenced_widgets": [
      "0eff38c0d0cf434695f25aeec92f676f",
      "0f8251f89c2249a8bec07983c4340584",
      "c7edfd3d42b34689a98ddd903d36da33",
      "68c334f8ea6d493f8ff3336ab35a8470",
      "d9e262cbd63c461797bb319e5f1a6148",
      "deabbf1f66484e2893d4cc83872d3314",
      "dd8627118595441db35bfb36505675df",
      "2b02c1c96b2e40349c8c27994a554af5",
      "b1d8afd88e854f63bccaa5fb73e7fd8c",
      "3122c80473ea46229099469b4283ec4f",
      "cdb8895ea92d47d4afe5f58eaa941998",
      "e895ae9db13c4bdead58e6192e9f6219",
      "afe6de0b7b1a4982adb21ee4439879e5",
      "b58f613a168e4152b93567169de9b9d8",
      "036d6f6305014aa28ba7c44d432a183d",
      "3514e3095c80449697a443b1e92bbcaa",
      "0353001010f54bdb8f326c4f28b765b8",
      "b8578a292b0347ed878bac56c8140fb7",
      "e6a1aef5a422469093ec85312dbabb43",
      "dbf4bb09a1314dcaac7df8e46d678455",
      "e00722f9b548426791134750fbf52a69",
      "fd3fc6d8b41346afa0604124ac6522ec"
     ]
    },
    "id": "e04jlyHeRNwZ",
    "outputId": "3dbebc0f-7843-4f07-e99b-7a003cdd881f"
   },
   "outputs": [
    {
     "data": {
      "application/vnd.jupyter.widget-view+json": {
       "model_id": "9a8642ed9f2743fd970497679f7dc0f6",
       "version_major": 2,
       "version_minor": 0
      },
      "text/plain": [
       "Filter:   0%|          | 0/26961 [00:00<?, ? examples/s]"
      ]
     },
     "metadata": {},
     "output_type": "display_data"
    },
    {
     "data": {
      "application/vnd.jupyter.widget-view+json": {
       "model_id": "d7191b316cbd44f6b4983f1333724c2c",
       "version_major": 2,
       "version_minor": 0
      },
      "text/plain": [
       "Filter:   0%|          | 0/26254 [00:00<?, ? examples/s]"
      ]
     },
     "metadata": {},
     "output_type": "display_data"
    },
    {
     "name": "stdout",
     "output_type": "stream",
     "text": [
      "Filtered dataset size: 26233\n"
     ]
    }
   ],
   "source": [
    "def is_content_valid(example):\n",
    "    return isinstance(example[\"Content\"], str) and len(example[\"Content\"].split()) >= 100\n",
    "\n",
    "def is_summary_valid(example):\n",
    "    return isinstance(example[\"Summary\"], str) and len(example[\"Summary\"].split()) >= 10\n",
    "\n",
    "a_filtered_ds = ds.filter(is_content_valid)\n",
    "\n",
    "b_filtered_ds = a_filtered_ds.filter(is_summary_valid)\n",
    "print(\"Filtered dataset size:\", len(b_filtered_ds))\n"
   ]
  },
  {
   "cell_type": "code",
   "execution_count": 12,
   "metadata": {
    "colab": {
     "base_uri": "https://localhost:8080/"
    },
    "id": "W0eKqUvXRSag",
    "outputId": "a30c9d2a-f715-4f47-b770-f86fc2a3d49d"
   },
   "outputs": [
    {
     "name": "stdout",
     "output_type": "stream",
     "text": [
      "\n",
      "Summary Stats (Filtered for extreme short entry):\n",
      "  Avg length: 61.58052834216445\n",
      "  Min length: 13\n",
      "  Max length: 98\n",
      "\n",
      "Content Stats: (Filtered for extreme short entry)\n",
      "  Avg length: 624.5348225517478\n",
      "  Min length: 100\n",
      "  Max length: 8328\n"
     ]
    }
   ],
   "source": [
    "summary_lengths = [len(x.split()) for x in b_filtered_ds['Summary'] if isinstance(x, str)]\n",
    "content_lengths = [len(x.split()) for x in b_filtered_ds['Content'] if isinstance(x, str)]\n",
    "\n",
    "import numpy as np\n",
    "\n",
    "print(\"\\nSummary Stats (Filtered for extreme short entry):\")\n",
    "print(\"  Avg length:\", np.mean(summary_lengths))\n",
    "print(\"  Min length:\", np.min(summary_lengths))\n",
    "print(\"  Max length:\", np.max(summary_lengths))\n",
    "\n",
    "print(\"\\nContent Stats: (Filtered for extreme short entry)\")\n",
    "print(\"  Avg length:\", np.mean(content_lengths))\n",
    "print(\"  Min length:\", np.min(content_lengths))\n",
    "print(\"  Max length:\", np.max(content_lengths))\n"
   ]
  },
  {
   "cell_type": "code",
   "execution_count": 13,
   "metadata": {
    "colab": {
     "base_uri": "https://localhost:8080/"
    },
    "id": "ztCPWCE0RkeM",
    "outputId": "569a19a3-5699-4e12-cda8-c224eac244a3",
    "scrolled": false
   },
   "outputs": [
    {
     "name": "stdout",
     "output_type": "stream",
     "text": [
      "{'URL': 'https://www.businesstoday.in/top-story/state-run-banks-need-urgent-capital-of-rs-1-trillion-due-to-weak-market-valuations-crisil/story/288921.html', 'Content': 'State-run lenders require an urgent Rs 1.2 trillion in the capital in the next five months and government will have to take a bulk of the tab due to the weak market valuations of these NPA-saddled banks, says report.\\n\\nThis is a little more than double the budgeted Rs 53,000-crore of capital infusion for the current fiscal year, Crisil senior director Krishnan Sitaraman said in a report Tuesday.\\n\\nIf the government decides to meet this need, this will put further pressure on the fiscal maths, thus its ability to meet the 3.3 per cent fiscal deficit target for the current fiscal year. Already the government has used up over 95 per cent of the deficit target or the market borrowings as of October end.\\n\\nThe report comes even as the government is asking the Reserve Bank to lower the minimum capital requirements by getting it at par with global practices-something the central bank is uncomfortable to meet.\\n\\nIt has also reported having turned down the finance ministry demand to transfer Rs 3.6 trillion of it\\'s over Rs 9.5 trillion reserves, which government wants to use to recapitalise the bleeding banks.\\n\\nTill now, only Rs 1.12 trillion have been infused into these lenders since October 2017, it said, adding just Rs 12,000 crore has come from the markets, it said.\\n\\nMost of the required capital has to be infused into the 11 lenders who are under the prompt corrective action (PCA) framework of the RBI, wherein depletion in the capital and return on assets, combined with a surge in non-performing assets, has resulted in the severe restrictions on normal operations, it said.\\n\\n\"Given their weak performance and low valuations, state-run banks have little ability to tap the market, which means the government will have to provide most of the requirement,\" it said.\\n\\nSitaraman said the Rs 1.5 trillion infused by the government in the last three financial years has only helped them cover the losses of Rs 1.3 trillion incurred during the same period.\\n\\nProfitability of state-run banks has been under pressure because of higher credit costs after the RBI tightened norms for recognition of stressed assets and their resolution, the report explained.\\n\\nMost of the 21 state-owned banks have reported huge losses in recent years, and a good number of them will be in the red this fiscal as well which will put a strain on the capital, notes the report.\\n\\nAs per the norms, the banks ought to have their tier-I capital at 9.5 per cent, including the capital of conservation buffer (CCB) of 2.5 per cent, it said, adding if the CCB were to be excluded, the capital requirement will fall to Rs 40,000 crore from Rs 1.2 trillion.\\n\\nMeeting the CCB requirement, introduced following the 2008 global financial crisis, is becoming difficult for many state-run banks and those under PCA have had to recall their additional tier-1 bonds in recent times impacting their capital adequacy, it said.\\n\\nThirteen of the 21 state-owned banks had their tier-I ratio below the regulatory norm as of the June quarter, the report noted.\\n\\nMoves like the consolidation of weaker banks with stronger ones like the tri-merger between Bank of Baroda, Dena Bank and Andhra Bank will help reduce the additional capital required, its associate director Vydianathan Ramaswamy said.\\n\\nListing other imperatives, he said the quantum of capital infusion has to increase, risk-weighted assets need to be brought down, and better-performing banks have to be nudged towards the market for capital.', 'Summary': 'government will have to take a bulk of the tab due to weak market valuations, report says. this is more than double the budgeted Rs 53,000-crore of capital infusion for current fiscal year. government has already used up over 95 per cent of the deficit target or the market borrowings. report comes as the government is asking the Reserve Bank to lower the minimum capital requirements.', 'Sentiment': 'Negative'}\n"
     ]
    }
   ],
   "source": [
    "print(b_filtered_ds[1])"
   ]
  },
  {
   "cell_type": "markdown",
   "metadata": {
    "id": "tnGtWkBqS9vn"
   },
   "source": [
    "**now summary and content has been filtered by length**\n",
    "b_filtered_ds"
   ]
  },
  {
   "cell_type": "code",
   "execution_count": null,
   "metadata": {},
   "outputs": [],
   "source": [
    "# use this if not aleady downloaded\n",
    "!pip install nltk"
   ]
  },
  {
   "cell_type": "code",
   "execution_count": 14,
   "metadata": {
    "colab": {
     "base_uri": "https://localhost:8080/"
    },
    "id": "KYyLn-C1S7Ti",
    "outputId": "edeea785-7649-42e4-d49d-9f8eaaa48681",
    "scrolled": true
   },
   "outputs": [
    {
     "name": "stdout",
     "output_type": "stream",
     "text": [
      "[nltk_data] Downloading package punkt to\n",
      "[nltk_data]     C:\\Users\\qq258\\AppData\\Roaming\\nltk_data...\n",
      "[nltk_data]   Package punkt is already up-to-date!\n"
     ]
    },
    {
     "data": {
      "text/plain": [
       "True"
      ]
     },
     "execution_count": 14,
     "metadata": {},
     "output_type": "execute_result"
    }
   ],
   "source": [
    "import re\n",
    "import nltk\n",
    "\n",
    "nltk.download('punkt')  # only once"
   ]
  },
  {
   "cell_type": "code",
   "execution_count": 15,
   "metadata": {
    "id": "ikKAZ5eBSJPN"
   },
   "outputs": [],
   "source": [
    "def clean_text(text):\n",
    "    # Lowercase\n",
    "    text = text.lower()\n",
    "\n",
    "    # Remove URLs\n",
    "    text = re.sub(r'https?://\\S+|www\\.\\S+', '', text)\n",
    "\n",
    "    # Remove extra whitespace and newlines\n",
    "    text = re.sub(r'\\s+', ' ', text).strip()\n",
    "\n",
    "    # Replace unicode smart quotes and dashes with ASCII\n",
    "    replacements = {\n",
    "        '’': \"'\",\n",
    "        '‘': \"'\",\n",
    "        '“': '\"',\n",
    "        '”': '\"',\n",
    "        '–': '-',\n",
    "        '—': '-',\n",
    "        '\\u2013': '-',  # en dash\n",
    "        '\\u2014': '-',  # em dash\n",
    "    }\n",
    "    for k, v in replacements.items():\n",
    "        text = text.replace(k, v)\n",
    "\n",
    "    # Remove any remaining non-printable characters\n",
    "    text = ''.join(c for c in text if c.isprintable())\n",
    "\n",
    "    return text\n",
    "\n",
    "def filter_entry(entry):\n",
    "    # For example, skip if content or summary too short\n",
    "    if len(entry['Content'].split()) < 30:\n",
    "        return False\n",
    "    if len(entry['Summary'].split()) < 5:\n",
    "        return False\n",
    "    return True"
   ]
  },
  {
   "cell_type": "code",
   "execution_count": 16,
   "metadata": {
    "colab": {
     "base_uri": "https://localhost:8080/",
     "height": 49,
     "referenced_widgets": [
      "35cd68462d114f568e90a495ef44f15f",
      "6fbf93178b064385aab9b3f7f22d9495",
      "f1bbd3dc985749d0b2129a31c6305f1b",
      "85909073723b4cfc97e9d366b6e00b46",
      "f25da8feacb24007af7163a3c1bf84f1",
      "7379e67dd86b4012be5d924140f12847",
      "e72d3cdc4a3f4e2da1a5a2014d3fdaad",
      "7f44338a4c144496ae77c4d8db3ce72a",
      "f375d4e5c53e4b02b9a94d2635da45bc",
      "4f8925a6119744d88c1a7a58898dae1c",
      "6f587692bb864abd9ec379a118c09793"
     ]
    },
    "id": "UtBeWLJwSJNJ",
    "outputId": "6a65a347-a020-4ec9-a38e-d5b714c725be"
   },
   "outputs": [
    {
     "data": {
      "application/vnd.jupyter.widget-view+json": {
       "model_id": "d3b6d904b3b841df8d0b2148b43dd76f",
       "version_major": 2,
       "version_minor": 0
      },
      "text/plain": [
       "Map:   0%|          | 0/26233 [00:00<?, ? examples/s]"
      ]
     },
     "metadata": {},
     "output_type": "display_data"
    }
   ],
   "source": [
    "\n",
    "def clean_example(example):\n",
    "    example['Content'] = clean_text(example['Content'])\n",
    "    example['Summary'] = clean_text(example['Summary'])\n",
    "    return example\n",
    "\n",
    "# Assuming b_filtered_ds is your Dataset object:\n",
    "b_filtered_ds = b_filtered_ds.map(clean_example)\n"
   ]
  },
  {
   "cell_type": "code",
   "execution_count": 17,
   "metadata": {
    "colab": {
     "base_uri": "https://localhost:8080/"
    },
    "id": "3PQr27BiSJK0",
    "outputId": "08b2c8f4-347d-41cf-8459-6c00071b4f87",
    "scrolled": false
   },
   "outputs": [
    {
     "name": "stdout",
     "output_type": "stream",
     "text": [
      "{'URL': 'https://www.businesstoday.in/top-story/state-run-banks-need-urgent-capital-of-rs-1-trillion-due-to-weak-market-valuations-crisil/story/288921.html', 'Content': 'state-run lenders require an urgent rs 1.2 trillion in the capital in the next five months and government will have to take a bulk of the tab due to the weak market valuations of these npa-saddled banks, says report. this is a little more than double the budgeted rs 53,000-crore of capital infusion for the current fiscal year, crisil senior director krishnan sitaraman said in a report tuesday. if the government decides to meet this need, this will put further pressure on the fiscal maths, thus its ability to meet the 3.3 per cent fiscal deficit target for the current fiscal year. already the government has used up over 95 per cent of the deficit target or the market borrowings as of october end. the report comes even as the government is asking the reserve bank to lower the minimum capital requirements by getting it at par with global practices-something the central bank is uncomfortable to meet. it has also reported having turned down the finance ministry demand to transfer rs 3.6 trillion of it\\'s over rs 9.5 trillion reserves, which government wants to use to recapitalise the bleeding banks. till now, only rs 1.12 trillion have been infused into these lenders since october 2017, it said, adding just rs 12,000 crore has come from the markets, it said. most of the required capital has to be infused into the 11 lenders who are under the prompt corrective action (pca) framework of the rbi, wherein depletion in the capital and return on assets, combined with a surge in non-performing assets, has resulted in the severe restrictions on normal operations, it said. \"given their weak performance and low valuations, state-run banks have little ability to tap the market, which means the government will have to provide most of the requirement,\" it said. sitaraman said the rs 1.5 trillion infused by the government in the last three financial years has only helped them cover the losses of rs 1.3 trillion incurred during the same period. profitability of state-run banks has been under pressure because of higher credit costs after the rbi tightened norms for recognition of stressed assets and their resolution, the report explained. most of the 21 state-owned banks have reported huge losses in recent years, and a good number of them will be in the red this fiscal as well which will put a strain on the capital, notes the report. as per the norms, the banks ought to have their tier-i capital at 9.5 per cent, including the capital of conservation buffer (ccb) of 2.5 per cent, it said, adding if the ccb were to be excluded, the capital requirement will fall to rs 40,000 crore from rs 1.2 trillion. meeting the ccb requirement, introduced following the 2008 global financial crisis, is becoming difficult for many state-run banks and those under pca have had to recall their additional tier-1 bonds in recent times impacting their capital adequacy, it said. thirteen of the 21 state-owned banks had their tier-i ratio below the regulatory norm as of the june quarter, the report noted. moves like the consolidation of weaker banks with stronger ones like the tri-merger between bank of baroda, dena bank and andhra bank will help reduce the additional capital required, its associate director vydianathan ramaswamy said. listing other imperatives, he said the quantum of capital infusion has to increase, risk-weighted assets need to be brought down, and better-performing banks have to be nudged towards the market for capital.', 'Summary': 'government will have to take a bulk of the tab due to weak market valuations, report says. this is more than double the budgeted rs 53,000-crore of capital infusion for current fiscal year. government has already used up over 95 per cent of the deficit target or the market borrowings. report comes as the government is asking the reserve bank to lower the minimum capital requirements.', 'Sentiment': 'Negative'}\n"
     ]
    }
   ],
   "source": [
    "print(b_filtered_ds[1])"
   ]
  },
  {
   "cell_type": "code",
   "execution_count": 18,
   "metadata": {
    "colab": {
     "base_uri": "https://localhost:8080/",
     "height": 66,
     "referenced_widgets": [
      "348d1a17648a437a89c7859396b00d4b",
      "bafbc872b1c54d879dbf3d9ea94d9e42",
      "c111df2257174b90982782d45c204fe9",
      "b8cc4441cb7846f4b4858280b19ced6d",
      "12dc14703b2a4dfb804116abee120bbc",
      "de29f535cfc1455b8d9a58705fd41e8a",
      "d5f3517a39c445d9abc1143b3a18dbd3",
      "7c015f8399a04254a1b688481453e28a",
      "c886b32884584316961dd3b64d981859",
      "ac0216ffd71142cbb134bd322cb249f1",
      "ab22bacf0f894de78162182967d1e43e"
     ]
    },
    "id": "hYlp8IKlSJIO",
    "outputId": "ea1787a4-4789-4de4-889d-59a4b5a56f39"
   },
   "outputs": [
    {
     "data": {
      "application/vnd.jupyter.widget-view+json": {
       "model_id": "ac7253f1b1384e2bb6da12deedb7ec80",
       "version_major": 2,
       "version_minor": 0
      },
      "text/plain": [
       "Creating CSV from Arrow format:   0%|          | 0/27 [00:00<?, ?ba/s]"
      ]
     },
     "metadata": {},
     "output_type": "display_data"
    },
    {
     "data": {
      "text/plain": [
       "113619219"
      ]
     },
     "execution_count": 18,
     "metadata": {},
     "output_type": "execute_result"
    }
   ],
   "source": [
    "b_filtered_ds.to_csv(\"cleaned_dataset.csv\")"
   ]
  },
  {
   "cell_type": "code",
   "execution_count": 19,
   "metadata": {
    "id": "sAv2JkK5SJFr"
   },
   "outputs": [],
   "source": [
    "# saving files\n",
    "df = b_filtered_ds.to_pandas()\n",
    "#df.to_json(\"cleaned_dataset.jsonl\", orient=\"records\", lines=True, index=False)\n",
    "df.to_json(\"cleaned_dataset.jsonl\", orient=\"records\", lines=True)\n"
   ]
  },
  {
   "cell_type": "markdown",
   "metadata": {
    "id": "O6pkMPRNjzkw"
   },
   "source": [
    "**DATASET PRE-PROCESSED, NOW BASELINE WIHT TEXTRANK**"
   ]
  },
  {
   "cell_type": "code",
   "execution_count": 20,
   "metadata": {
    "colab": {
     "base_uri": "https://localhost:8080/"
    },
    "id": "P48vcpddd85U",
    "outputId": "8b7c9c42-6466-4612-a014-fb0e7c7b51e5",
    "scrolled": true
   },
   "outputs": [
    {
     "name": "stdout",
     "output_type": "stream",
     "text": [
      "[nltk_data] Downloading package punkt to\n",
      "[nltk_data]     C:\\Users\\qq258\\AppData\\Roaming\\nltk_data...\n",
      "[nltk_data]   Package punkt is already up-to-date!\n",
      "[nltk_data] Downloading package punkt_tab to\n",
      "[nltk_data]     C:\\Users\\qq258\\AppData\\Roaming\\nltk_data...\n",
      "[nltk_data]   Package punkt_tab is already up-to-date!\n"
     ]
    }
   ],
   "source": [
    "import nltk\n",
    "nltk.download('punkt')\n",
    "nltk.download('punkt_tab')\n",
    "\n",
    "def split_sentences(text):\n",
    "    return nltk.sent_tokenize(text)\n"
   ]
  },
  {
   "cell_type": "code",
   "execution_count": 21,
   "metadata": {},
   "outputs": [
    {
     "name": "stdout",
     "output_type": "stream",
     "text": [
      "Defaulting to user installation because normal site-packages is not writeable\n",
      "Requirement already satisfied: networkx in c:\\all files\\anaconda3\\lib\\site-packages (2.8.4)\n"
     ]
    }
   ],
   "source": [
    "# download networkx if module error\n",
    "!pip install networkx"
   ]
  },
  {
   "cell_type": "code",
   "execution_count": 22,
   "metadata": {
    "id": "cc79d6Nkd83L"
   },
   "outputs": [],
   "source": [
    "import networkx as nx\n",
    "from sklearn.feature_extraction.text import TfidfVectorizer\n",
    "from sklearn.metrics.pairwise import cosine_similarity\n",
    "import numpy as np\n",
    "\n",
    "def textrank(sentences, top_n=5):\n",
    "    # vectorize sentences with TF-IDF\n",
    "    vectorizer = TfidfVectorizer()\n",
    "    tfidf_matrix = vectorizer.fit_transform(sentences)\n",
    "\n",
    "    # compute similarity matrix\n",
    "    sim_matrix = cosine_similarity(tfidf_matrix)\n",
    "\n",
    "    # build graph and apply PageRank\n",
    "    nx_graph = nx.from_numpy_array(sim_matrix)\n",
    "    scores = nx.pagerank(nx_graph)\n",
    "\n",
    "    # rank sentences and pick top N\n",
    "    ranked_sentences = sorted(((scores[i], s) for i, s in enumerate(sentences)), reverse=True)\n",
    "    selected = [s for _, s in ranked_sentences[:top_n]]\n",
    "\n",
    "    return ' '.join(selected)\n"
   ]
  },
  {
   "cell_type": "code",
   "execution_count": 23,
   "metadata": {
    "colab": {
     "base_uri": "https://localhost:8080/"
    },
    "id": "ZHSPVha2eNJC",
    "outputId": "a88ad16e-8a59-498e-e454-02f6a28aeb2f",
    "scrolled": true
   },
   "outputs": [
    {
     "ename": "ModuleNotFoundError",
     "evalue": "No module named 'google'",
     "output_type": "error",
     "traceback": [
      "\u001b[1;31m---------------------------------------------------------------------------\u001b[0m",
      "\u001b[1;31mModuleNotFoundError\u001b[0m                       Traceback (most recent call last)",
      "Cell \u001b[1;32mIn[23], line 1\u001b[0m\n\u001b[1;32m----> 1\u001b[0m \u001b[38;5;28;01mfrom\u001b[39;00m\u001b[38;5;250m \u001b[39m\u001b[38;5;21;01mgoogle\u001b[39;00m\u001b[38;5;21;01m.\u001b[39;00m\u001b[38;5;21;01mcolab\u001b[39;00m\u001b[38;5;250m \u001b[39m\u001b[38;5;28;01mimport\u001b[39;00m drive\n\u001b[0;32m      2\u001b[0m drive\u001b[38;5;241m.\u001b[39mmount(\u001b[38;5;124m'\u001b[39m\u001b[38;5;124m/content/drive\u001b[39m\u001b[38;5;124m'\u001b[39m)\n",
      "\u001b[1;31mModuleNotFoundError\u001b[0m: No module named 'google'"
     ]
    }
   ],
   "source": [
    "from google.colab import drive\n",
    "drive.mount('/content/drive')"
   ]
  },
  {
   "cell_type": "code",
   "execution_count": 24,
   "metadata": {
    "colab": {
     "base_uri": "https://localhost:8080/"
    },
    "id": "zMx3eHWHd80v",
    "outputId": "84f7792f-0499-480c-c4a8-cea8a8a3cf85"
   },
   "outputs": [
    {
     "name": "stdout",
     "output_type": "stream",
     "text": [
      "Original Content:\n",
      " state-run lenders require an urgent rs 1.2 trillion in the capital in the next five months and government will have to take a bulk of the tab due to the weak market valuations of these npa-saddled banks, says report. this is a little more than double the budgeted rs 53,000-crore of capital infusion for the current fiscal year, crisil senior director krishnan sitaraman said in a report tuesday. if the government decides to meet this need, this will put further pressure on the fiscal maths, thus its ability to meet the 3.3 per cent fiscal deficit target for the current fiscal year. already the government has used up over 95 per cent of the deficit target or the market borrowings as of october end. the report comes even as the government is asking the reserve bank to lower the minimum capital requirements by getting it at par with global practices-something the central bank is uncomfortable to meet. it has also reported having turned down the finance ministry demand to transfer rs 3.6 trillion of it's over rs 9.5 trillion reserves, which government wants to use to recapitalise the bleeding banks. till now, only rs 1.12 trillion have been infused into these lenders since october 2017, it said, adding just rs 12,000 crore has come from the markets, it said. most of the required capital has to be infused into the 11 lenders who are under the prompt corrective action (pca) framework of the rbi, wherein depletion in the capital and return on assets, combined with a surge in non-performing assets, has resulted in the severe restrictions on normal operations, it said. \"given their weak performance and low valuations, state-run banks have little ability to tap the market, which means the government will have to provide most of the requirement,\" it said. sitaraman said the rs 1.5 trillion infused by the government in the last three financial years has only helped them cover the losses of rs 1.3 trillion incurred during the same period. profitability of state-run banks has been under pressure because of higher credit costs after the rbi tightened norms for recognition of stressed assets and their resolution, the report explained. most of the 21 state-owned banks have reported huge losses in recent years, and a good number of them will be in the red this fiscal as well which will put a strain on the capital, notes the report. as per the norms, the banks ought to have their tier-i capital at 9.5 per cent, including the capital of conservation buffer (ccb) of 2.5 per cent, it said, adding if the ccb were to be excluded, the capital requirement will fall to rs 40,000 crore from rs 1.2 trillion. meeting the ccb requirement, introduced following the 2008 global financial crisis, is becoming difficult for many state-run banks and those under pca have had to recall their additional tier-1 bonds in recent times impacting their capital adequacy, it said. thirteen of the 21 state-owned banks had their tier-i ratio below the regulatory norm as of the june quarter, the report noted. moves like the consolidation of weaker banks with stronger ones like the tri-merger between bank of baroda, dena bank and andhra bank will help reduce the additional capital required, its associate director vydianathan ramaswamy said. listing other imperatives, he said the quantum of capital infusion has to increase, risk-weighted assets need to be brought down, and better-performing banks have to be nudged towards the market for capital.\n",
      "Summary:\n",
      " as per the norms, the banks ought to have their tier-i capital at 9.5 per cent, including the capital of conservation buffer (ccb) of 2.5 per cent, it said, adding if the ccb were to be excluded, the capital requirement will fall to rs 40,000 crore from rs 1.2 trillion. state-run lenders require an urgent rs 1.2 trillion in the capital in the next five months and government will have to take a bulk of the tab due to the weak market valuations of these npa-saddled banks, says report. most of the 21 state-owned banks have reported huge losses in recent years, and a good number of them will be in the red this fiscal as well which will put a strain on the capital, notes the report. \"given their weak performance and low valuations, state-run banks have little ability to tap the market, which means the government will have to provide most of the requirement,\" it said. most of the required capital has to be infused into the 11 lenders who are under the prompt corrective action (pca) framework of the rbi, wherein depletion in the capital and return on assets, combined with a surge in non-performing assets, has resulted in the severe restrictions on normal operations, it said.\n"
     ]
    }
   ],
   "source": [
    "# suppose dataset is a list of dicts or a pandas DataFrame\n",
    "entry = b_filtered_ds[1]  # or dataset.iloc[1] if pandas\n",
    "\n",
    "text = entry['Content']  # get the content field\n",
    "\n",
    "# assuming you have your baseline pipeline functions from before:\n",
    "\n",
    "\n",
    "sentences = split_sentences(text)\n",
    "summary = textrank(sentences, top_n=5)\n",
    "\n",
    "print(\"Original Content:\\n\", text)\n",
    "print(\"Summary:\\n\", summary)"
   ]
  },
  {
   "cell_type": "code",
   "execution_count": 25,
   "metadata": {
    "id": "YOE-o27uhgBb"
   },
   "outputs": [],
   "source": [
    "def baseline_summary_pipeline(text):\n",
    "  sentences = split_sentences(text)\n",
    "  summary = textrank(sentences, top_n=5)\n",
    "  return summary"
   ]
  },
  {
   "cell_type": "code",
   "execution_count": null,
   "metadata": {
    "colab": {
     "base_uri": "https://localhost:8080/"
    },
    "id": "XWA2KSuPhAav",
    "outputId": "e841bbfd-53cf-4a48-ee4e-a4a5cc50412c"
   },
   "outputs": [],
   "source": [
    "pip install rouge-score\n"
   ]
  },
  {
   "cell_type": "code",
   "execution_count": 26,
   "metadata": {
    "colab": {
     "base_uri": "https://localhost:8080/"
    },
    "id": "_lK-NOLad8vE",
    "outputId": "6c688b52-694c-40a1-e0b3-4fe7c1f29be5"
   },
   "outputs": [
    {
     "name": "stdout",
     "output_type": "stream",
     "text": [
      "Average ROUGE-1 F1: 0.3117687753680703\n",
      "Average ROUGE-2 F1: 0.18014261244658297\n",
      "Average ROUGE-L F1: 0.22399678411130425\n"
     ]
    }
   ],
   "source": [
    "from rouge_score import rouge_scorer\n",
    "\n",
    "scorer = rouge_scorer.RougeScorer(['rouge1', 'rouge2', 'rougeL'], use_stemmer=True)\n",
    "\n",
    "rouge1_scores = []\n",
    "rouge2_scores = []\n",
    "rougeL_scores = []\n",
    "\n",
    "for entry in b_filtered_ds.select(range(20)):\n",
    "    generated = baseline_summary_pipeline(entry['Content'])  # your generated summary\n",
    "    reference = entry['Summary']  # human reference summary\n",
    "\n",
    "    score = scorer.score(reference, generated)\n",
    "\n",
    "    rouge1_scores.append(score['rouge1'].fmeasure)\n",
    "    rouge2_scores.append(score['rouge2'].fmeasure)\n",
    "    rougeL_scores.append(score['rougeL'].fmeasure)\n",
    "\n",
    "print(\"Average ROUGE-1 F1:\", sum(rouge1_scores)/len(rouge1_scores))\n",
    "print(\"Average ROUGE-2 F1:\", sum(rouge2_scores)/len(rouge2_scores))\n",
    "print(\"Average ROUGE-L F1:\", sum(rougeL_scores)/len(rougeL_scores))\n"
   ]
  },
  {
   "cell_type": "code",
   "execution_count": 27,
   "metadata": {
    "colab": {
     "base_uri": "https://localhost:8080/"
    },
    "id": "1J8izDj2iW59",
    "outputId": "a6b64cc8-391c-499f-8014-84fb786bd89b",
    "scrolled": true
   },
   "outputs": [
    {
     "data": {
      "text/plain": [
       "26233"
      ]
     },
     "execution_count": 27,
     "metadata": {},
     "output_type": "execute_result"
    }
   ],
   "source": [
    "len(b_filtered_ds)"
   ]
  },
  {
   "cell_type": "markdown",
   "metadata": {},
   "source": [
    "# Keyword Extraction"
   ]
  },
  {
   "cell_type": "markdown",
   "metadata": {},
   "source": [
    "### Tokenize and filter keywords\n",
    "\n",
    "we will use nltk to tokenize the text, then remove stopwords and punctuation."
   ]
  },
  {
   "cell_type": "code",
   "execution_count": 28,
   "metadata": {
    "scrolled": true
   },
   "outputs": [
    {
     "name": "stdout",
     "output_type": "stream",
     "text": [
      "[nltk_data] Downloading package punkt to\n",
      "[nltk_data]     C:\\Users\\qq258\\AppData\\Roaming\\nltk_data...\n",
      "[nltk_data]   Package punkt is already up-to-date!\n",
      "[nltk_data] Downloading package averaged_perceptron_tagger to\n",
      "[nltk_data]     C:\\Users\\qq258\\AppData\\Roaming\\nltk_data...\n",
      "[nltk_data]   Package averaged_perceptron_tagger is already up-to-\n",
      "[nltk_data]       date!\n",
      "[nltk_data] Downloading package stopwords to\n",
      "[nltk_data]     C:\\Users\\qq258\\AppData\\Roaming\\nltk_data...\n",
      "[nltk_data]   Package stopwords is already up-to-date!\n"
     ]
    }
   ],
   "source": [
    "import nltk\n",
    "nltk.data.path.append(r\"C:\\Users\\qq258\\AppData\\Roaming\\nltk_data\")\n",
    "from nltk.corpus import stopwords\n",
    "from nltk import pos_tag, word_tokenize\n",
    "\n",
    "\n",
    "\n",
    "nltk.download('punkt')\n",
    "nltk.download('averaged_perceptron_tagger')\n",
    "nltk.download('stopwords')\n",
    "\n",
    "def extract_pos_filtered_tokens(text):\n",
    "    stop_words = set(stopwords.words('english'))\n",
    "    words = word_tokenize(text.lower())\n",
    "    words = [w for w in words if w.isalpha() and w not in stop_words]\n",
    "\n",
    "    tagged = pos_tag(words)\n",
    "    # Keep only nouns and adjectives\n",
    "    keep_tags = {'NN', 'NNS', 'NNP', 'NNPS', 'JJ', 'JJR', 'JJS'}\n",
    "    filtered = [word for word, tag in tagged if tag in keep_tags]\n",
    "    \n",
    "    return filtered\n"
   ]
  },
  {
   "cell_type": "markdown",
   "metadata": {},
   "source": [
    "### Build co-occurrence graph\n",
    "\n",
    "Create edges between words that co-occur within a fixed window size (e.g., 2–4), then use networkx to build and rank nodes."
   ]
  },
  {
   "cell_type": "code",
   "execution_count": 29,
   "metadata": {},
   "outputs": [],
   "source": [
    "import networkx as nx\n",
    "from itertools import combinations\n",
    "\n",
    "def build_cooccurrence_graph(words, window_size=4):\n",
    "    graph = nx.Graph()\n",
    "    for i in range(len(words)):\n",
    "        for j in range(i+1, min(i+window_size, len(words))):\n",
    "            if words[i] != words[j]:\n",
    "                graph.add_edge(words[i], words[j])\n",
    "    return graph"
   ]
  },
  {
   "cell_type": "markdown",
   "metadata": {},
   "source": [
    "### Apply pagerank to rank keywords"
   ]
  },
  {
   "cell_type": "code",
   "execution_count": 30,
   "metadata": {},
   "outputs": [],
   "source": [
    "def extract_keywords(text, top_n=10):\n",
    "    tokens = extract_pos_filtered_tokens(text)\n",
    "    graph = build_cooccurrence_graph(tokens)\n",
    "    scores = nx.pagerank(graph)\n",
    "    ranked = sorted(scores.items(), key=lambda x: x[1], reverse=True)\n",
    "    return [word for word, _ in ranked[:top_n]]"
   ]
  },
  {
   "cell_type": "code",
   "execution_count": 31,
   "metadata": {
    "scrolled": false
   },
   "outputs": [
    {
     "name": "stdout",
     "output_type": "stream",
     "text": [
      "Extracted Keywords: ['capital', 'banks', 'rs', 'government', 'report', 'fiscal', 'market', 'bank', 'assets', 'cent']\n"
     ]
    }
   ],
   "source": [
    "text = b_filtered_ds[1]['Content']\n",
    "keywords = extract_keywords(text, top_n=10)\n",
    "print(\"Extracted Keywords:\", keywords)"
   ]
  },
  {
   "cell_type": "markdown",
   "metadata": {},
   "source": [
    "### Accumulate all keywords across the dataset and find the top 100 most frequent keywords"
   ]
  },
  {
   "cell_type": "code",
   "execution_count": 32,
   "metadata": {},
   "outputs": [
    {
     "name": "stdout",
     "output_type": "stream",
     "text": [
      "['government', 'rs', 'india', 'market', 'cent', 'company', 'crore', 'economy', 'bank', 'year', 'growth', 'new', 'markets', 'percent', 'vaccine', 'pandemic', 'global', 'country', 'points', 'last', 'investors', 'companies', 'economic', 'coronavirus', 'world', 'oil', 'sector', 'herd', 'index', 'trade', 'years', 'people', 'prices', 'lakh', 'sensex', 'indian', 'rate', 'number', 'stocks', 'business', 'financial', 'high', 'natural', 'lockdown', 'time', 'infection', 'nifty', 'banks', 'investment', 'months', 'quarter', 'week', 'industry', 'march', 'higher', 'due', 'dollar', 'china', 'day', 'spokesman', 'tax', 'stock', 'capital', 'fund', 'demand', 'minister', 'state', 'rbi', 'top', 'month', 'gold', 'price', 'equity', 'operations', 'likely', 'cases', 'fiscal', 'funds', 'key', 'total', 'domestic', 'major', 'countries', 'policy', 'report', 'first', 'interest', 'strong', 'shares', 'sales', 'rupee', 'services', 'states', 'women', 'end', 'gdp', 'many', 'trading', 'recovery', 'positive']\n"
     ]
    }
   ],
   "source": [
    "from collections import Counter\n",
    "\n",
    "all_keywords = []\n",
    "\n",
    "# Iterate over each summary in your DataFrame\n",
    "for summary in df[\"Summary\"]:\n",
    "    keywords = extract_keywords(summary, top_n=10)  # your existing function\n",
    "    all_keywords.extend(keywords)  # collect all keywords\n",
    "\n",
    "# Count frequency of each keyword\n",
    "keyword_freq = Counter(all_keywords)\n",
    "\n",
    "# Get top 100 most common keywords across all summaries\n",
    "top_100_keywords = [word for word, _ in keyword_freq.most_common(100)]\n",
    "\n",
    "print(top_100_keywords)"
   ]
  },
  {
   "cell_type": "markdown",
   "metadata": {},
   "source": [
    "# Image Lookup Table"
   ]
  },
  {
   "cell_type": "code",
   "execution_count": 4,
   "metadata": {
    "scrolled": true
   },
   "outputs": [],
   "source": [
    "import requests\n",
    "import os\n",
    "\n",
    "def download_image_from_pexels(keyword, save_dir=\"./images\"):\n",
    "    os.makedirs(save_dir, exist_ok=True)\n",
    "\n",
    "    headers = {\n",
    "        \"Authorization\": \"API_KEY\"\n",
    "    }\n",
    "\n",
    "    response = requests.get(\n",
    "        \"https://api.pexels.com/v1/search\",\n",
    "        headers=headers,\n",
    "        params={\"query\": f\"insurance {keyword}\", \"per_page\": 1}\n",
    "    )\n",
    "    \n",
    "\n",
    "    if response.status_code == 200:\n",
    "        data = response.json()\n",
    "        photo_url = data[\"photos\"][0][\"src\"][\"original\"]  # use 'medium' or 'small' if file size matters\n",
    "        image_data = requests.get(photo_url).content\n",
    "        file_path = os.path.join(save_dir, f\"{keyword}.jpg\")\n",
    "\n",
    "        with open(file_path, \"wb\") as f:\n",
    "            f.write(image_data)\n",
    "\n",
    "        print(f\"Downloaded image for '{keyword}' to {file_path}\")\n",
    "    else:\n",
    "        print(f\"Failed to fetch image for {keyword} – HTTP {response.status_code}\")"
   ]
  },
  {
   "cell_type": "code",
   "execution_count": 6,
   "metadata": {
    "scrolled": true
   },
   "outputs": [
    {
     "name": "stdout",
     "output_type": "stream",
     "text": [
      "Downloaded image for 'government' to ./images\\government.jpg\n",
      "Downloaded image for 'rs' to ./images\\rs.jpg\n",
      "Downloaded image for 'india' to ./images\\india.jpg\n",
      "Downloaded image for 'market' to ./images\\market.jpg\n",
      "Downloaded image for 'cent' to ./images\\cent.jpg\n",
      "Downloaded image for 'company' to ./images\\company.jpg\n",
      "Downloaded image for 'crore' to ./images\\crore.jpg\n",
      "Downloaded image for 'economy' to ./images\\economy.jpg\n",
      "Downloaded image for 'bank' to ./images\\bank.jpg\n",
      "Downloaded image for 'year' to ./images\\year.jpg\n",
      "Downloaded image for 'growth' to ./images\\growth.jpg\n",
      "Downloaded image for 'new' to ./images\\new.jpg\n",
      "Downloaded image for 'markets' to ./images\\markets.jpg\n",
      "Downloaded image for 'percent' to ./images\\percent.jpg\n",
      "Downloaded image for 'vaccine' to ./images\\vaccine.jpg\n",
      "Downloaded image for 'pandemic' to ./images\\pandemic.jpg\n",
      "Downloaded image for 'global' to ./images\\global.jpg\n",
      "Downloaded image for 'country' to ./images\\country.jpg\n",
      "Downloaded image for 'points' to ./images\\points.jpg\n",
      "Downloaded image for 'last' to ./images\\last.jpg\n",
      "Downloaded image for 'investors' to ./images\\investors.jpg\n",
      "Downloaded image for 'companies' to ./images\\companies.jpg\n",
      "Downloaded image for 'economic' to ./images\\economic.jpg\n",
      "Downloaded image for 'coronavirus' to ./images\\coronavirus.jpg\n",
      "Downloaded image for 'world' to ./images\\world.jpg\n",
      "Downloaded image for 'oil' to ./images\\oil.jpg\n",
      "Downloaded image for 'sector' to ./images\\sector.jpg\n",
      "Downloaded image for 'herd' to ./images\\herd.jpg\n",
      "Downloaded image for 'index' to ./images\\index.jpg\n",
      "Downloaded image for 'trade' to ./images\\trade.jpg\n",
      "Downloaded image for 'years' to ./images\\years.jpg\n",
      "Downloaded image for 'people' to ./images\\people.jpg\n",
      "Downloaded image for 'prices' to ./images\\prices.jpg\n",
      "Downloaded image for 'lakh' to ./images\\lakh.jpg\n",
      "Downloaded image for 'sensex' to ./images\\sensex.jpg\n",
      "Downloaded image for 'indian' to ./images\\indian.jpg\n",
      "Downloaded image for 'rate' to ./images\\rate.jpg\n",
      "Downloaded image for 'number' to ./images\\number.jpg\n",
      "Downloaded image for 'stocks' to ./images\\stocks.jpg\n",
      "Downloaded image for 'business' to ./images\\business.jpg\n",
      "Downloaded image for 'financial' to ./images\\financial.jpg\n",
      "Downloaded image for 'high' to ./images\\high.jpg\n",
      "Downloaded image for 'natural' to ./images\\natural.jpg\n",
      "Downloaded image for 'lockdown' to ./images\\lockdown.jpg\n",
      "Downloaded image for 'time' to ./images\\time.jpg\n",
      "Downloaded image for 'infection' to ./images\\infection.jpg\n",
      "Downloaded image for 'nifty' to ./images\\nifty.jpg\n",
      "Downloaded image for 'banks' to ./images\\banks.jpg\n",
      "Downloaded image for 'investment' to ./images\\investment.jpg\n",
      "Downloaded image for 'months' to ./images\\months.jpg\n",
      "Downloaded image for 'quarter' to ./images\\quarter.jpg\n",
      "Downloaded image for 'week' to ./images\\week.jpg\n",
      "Downloaded image for 'industry' to ./images\\industry.jpg\n",
      "Downloaded image for 'march' to ./images\\march.jpg\n",
      "Downloaded image for 'higher' to ./images\\higher.jpg\n",
      "Downloaded image for 'due' to ./images\\due.jpg\n",
      "Downloaded image for 'dollar' to ./images\\dollar.jpg\n",
      "Downloaded image for 'china' to ./images\\china.jpg\n",
      "Downloaded image for 'day' to ./images\\day.jpg\n",
      "Downloaded image for 'spokesman' to ./images\\spokesman.jpg\n",
      "Downloaded image for 'tax' to ./images\\tax.jpg\n",
      "Downloaded image for 'stock' to ./images\\stock.jpg\n",
      "Downloaded image for 'capital' to ./images\\capital.jpg\n",
      "Downloaded image for 'fund' to ./images\\fund.jpg\n",
      "Downloaded image for 'demand' to ./images\\demand.jpg\n",
      "Downloaded image for 'minister' to ./images\\minister.jpg\n",
      "Downloaded image for 'state' to ./images\\state.jpg\n",
      "Downloaded image for 'rbi' to ./images\\rbi.jpg\n",
      "Downloaded image for 'top' to ./images\\top.jpg\n",
      "Downloaded image for 'month' to ./images\\month.jpg\n",
      "Downloaded image for 'gold' to ./images\\gold.jpg\n",
      "Downloaded image for 'price' to ./images\\price.jpg\n",
      "Downloaded image for 'equity' to ./images\\equity.jpg\n",
      "Downloaded image for 'operations' to ./images\\operations.jpg\n",
      "Downloaded image for 'likely' to ./images\\likely.jpg\n",
      "Downloaded image for 'cases' to ./images\\cases.jpg\n",
      "Downloaded image for 'fiscal' to ./images\\fiscal.jpg\n",
      "Downloaded image for 'funds' to ./images\\funds.jpg\n",
      "Downloaded image for 'key' to ./images\\key.jpg\n",
      "Downloaded image for 'total' to ./images\\total.jpg\n",
      "Downloaded image for 'domestic' to ./images\\domestic.jpg\n",
      "Downloaded image for 'major' to ./images\\major.jpg\n",
      "Downloaded image for 'countries' to ./images\\countries.jpg\n",
      "Downloaded image for 'policy' to ./images\\policy.jpg\n",
      "Downloaded image for 'report' to ./images\\report.jpg\n",
      "Downloaded image for 'first' to ./images\\first.jpg\n",
      "Downloaded image for 'interest' to ./images\\interest.jpg\n",
      "Downloaded image for 'strong' to ./images\\strong.jpg\n",
      "Downloaded image for 'shares' to ./images\\shares.jpg\n",
      "Downloaded image for 'sales' to ./images\\sales.jpg\n",
      "Downloaded image for 'rupee' to ./images\\rupee.jpg\n",
      "Downloaded image for 'services' to ./images\\services.jpg\n",
      "Downloaded image for 'states' to ./images\\states.jpg\n",
      "Downloaded image for 'women' to ./images\\women.jpg\n",
      "Downloaded image for 'end' to ./images\\end.jpg\n",
      "Downloaded image for 'gdp' to ./images\\gdp.jpg\n",
      "Downloaded image for 'many' to ./images\\many.jpg\n",
      "Downloaded image for 'trading' to ./images\\trading.jpg\n",
      "Downloaded image for 'recovery' to ./images\\recovery.jpg\n",
      "Downloaded image for 'positive' to ./images\\positive.jpg\n"
     ]
    }
   ],
   "source": [
    "keywords = ['bank', 'government', 'capital', 'market']  # example\n",
    "keywords1 = ['government', 'rs', 'india', 'market', 'cent', 'company', 'crore', 'economy', 'bank', 'year', \n",
    "             'growth', 'new', 'markets', 'percent', 'vaccine', 'pandemic', 'global', 'country', \n",
    "             'points', 'last', 'investors', 'companies', 'economic', \n",
    "             'coronavirus', 'world', 'oil', 'sector', 'herd', 'index', 'trade', \n",
    "             'years', 'people', 'prices', 'lakh', 'sensex', 'indian', 'rate', 'number', \n",
    "             'stocks', 'business', 'financial', 'high', 'natural', 'lockdown', 'time', \n",
    "             'infection', 'nifty', 'banks', 'investment', 'months', 'quarter', 'week', \n",
    "             'industry', 'march', 'higher', 'due', 'dollar', 'china', 'day', 'spokesman', \n",
    "             'tax', 'stock', 'capital', 'fund', 'demand', 'minister', 'state', 'rbi', \n",
    "             'top', 'month', 'gold', 'price', 'equity', 'operations', 'likely', 'cases', \n",
    "             'fiscal', 'funds', 'key', 'total', 'domestic', 'major', 'countries', 'policy', \n",
    "             'report', 'first', 'interest', 'strong', 'shares', 'sales', 'rupee', 'services', \n",
    "             'states', 'women', 'end', 'gdp', 'many', 'trading', 'recovery', 'positive']\n",
    "for word in keywords1:\n",
    "    download_image_from_pexels(word)"
   ]
  },
  {
   "cell_type": "markdown",
   "metadata": {},
   "source": [
    "The images folder is too big to be uploaded, so we saved them in a google drive folder. Here is a link:\n",
    "\n",
    "https://drive.google.com/drive/folders/1pk4AJnD0eAIziylF7lWwn2snwX2D0dEj?usp=sharing"
   ]
  },
  {
   "cell_type": "markdown",
   "metadata": {},
   "source": [
    "Now we are able to download images based on the keywords. below is a plot function that will plot out the downloaded images that correspond to the keywords."
   ]
  },
  {
   "cell_type": "code",
   "execution_count": 10,
   "metadata": {},
   "outputs": [],
   "source": [
    "import os\n",
    "import matplotlib.pyplot as plt\n",
    "import matplotlib.image as mpimg\n",
    "\n",
    "# Display images corresponding to the given list of keywords.\n",
    "def show_keyword_images(keywords, image_dir=\"./images\"):\n",
    "\n",
    "    image_files = [f\"{word}.jpg\" for word in keywords if os.path.exists(os.path.join(image_dir, f\"{word}.jpg\"))]\n",
    "\n",
    "    if not image_files:\n",
    "        print(\"No matching images found.\")\n",
    "        return\n",
    "\n",
    "    cols = 5\n",
    "    rows = (len(image_files) + cols - 1) // cols  # Round up\n",
    "\n",
    "    plt.figure(figsize=(15, 3 * rows))\n",
    "\n",
    "    for i, img_file in enumerate(image_files):\n",
    "        img_path = os.path.join(image_dir, img_file)\n",
    "        img = mpimg.imread(img_path)\n",
    "\n",
    "        plt.subplot(rows, cols, i + 1)\n",
    "        plt.imshow(img)\n",
    "        plt.axis(\"off\")\n",
    "        plt.title(img_file.split(\".\")[0])\n",
    "\n",
    "    plt.tight_layout()\n",
    "    plt.show()"
   ]
  },
  {
   "cell_type": "code",
   "execution_count": 11,
   "metadata": {},
   "outputs": [
    {
     "data": {
      "image/png": "[encoded data removed]",
      "text/plain": [
       "<Figure size 1500x300 with 4 Axes>"
      ]
     },
     "metadata": {},
     "output_type": "display_data"
    }
   ],
   "source": [
    "show_keyword_images(keywords)"
   ]
  }
 ],
 "metadata": {
  "accelerator": "GPU",
  "colab": {
   "gpuType": "T4",
   "provenance": []
  },
  "kernelspec": {
   "display_name": "DL",
   "language": "python",
   "name": "dl"
  },
  "language_info": {
   "codemirror_mode": {
    "name": "ipython",
    "version": 3
   },
   "file_extension": ".py",
   "mimetype": "text/x-python",
   "name": "python",
   "nbconvert_exporter": "python",
   "pygments_lexer": "ipython3",
   "version": "3.9.23"
  },
  "widgets": {
   "application/vnd.jupyter.widget-state+json": {
    "0353001010f54bdb8f326c4f28b765b8": {
     "model_module": "@jupyter-widgets/base",
     "model_module_version": "1.2.0",
     "model_name": "LayoutModel",
     "state": {
      "_model_module": "@jupyter-widgets/base",
      "_model_module_version": "1.2.0",
      "_model_name": "LayoutModel",
      "_view_count": null,
      "_view_module": "@jupyter-widgets/base",
      "_view_module_version": "1.2.0",
      "_view_name": "LayoutView",
      "align_content": null,
      "align_items": null,
      "align_self": null,
      "border": null,
      "bottom": null,
      "display": null,
      "flex": null,
      "flex_flow": null,
      "grid_area": null,
      "grid_auto_columns": null,
      "grid_auto_flow": null,
      "grid_auto_rows": null,
      "grid_column": null,
      "grid_gap": null,
      "grid_row": null,
      "grid_template_areas": null,
      "grid_template_columns": null,
      "grid_template_rows": null,
      "height": null,
      "justify_content": null,
      "justify_items": null,
      "left": null,
      "margin": null,
      "max_height": null,
      "max_width": null,
      "min_height": null,
      "min_width": null,
      "object_fit": null,
      "object_position": null,
      "order": null,
      "overflow": null,
      "overflow_x": null,
      "overflow_y": null,
      "padding": null,
      "right": null,
      "top": null,
      "visibility": null,
      "width": null
     }
    },
    "036d6f6305014aa28ba7c44d432a183d": {
     "model_module": "@jupyter-widgets/controls",
     "model_module_version": "1.5.0",
     "model_name": "HTMLModel",
     "state": {
      "_dom_classes": [],
      "_model_module": "@jupyter-widgets/controls",
      "_model_module_version": "1.5.0",
      "_model_name": "HTMLModel",
      "_view_count": null,
      "_view_module": "@jupyter-widgets/controls",
      "_view_module_version": "1.5.0",
      "_view_name": "HTMLView",
      "description": "",
      "description_tooltip": null,
      "layout": "IPY_MODEL_e00722f9b548426791134750fbf52a69",
      "placeholder": "​",
      "style": "IPY_MODEL_fd3fc6d8b41346afa0604124ac6522ec",
      "value": " 26254/26254 [00:01&lt;00:00, 11957.61 examples/s]"
     }
    },
    "0d29a7230f424d989b3557e1765f4801": {
     "model_module": "@jupyter-widgets/base",
     "model_module_version": "1.2.0",
     "model_name": "LayoutModel",
     "state": {
      "_model_module": "@jupyter-widgets/base",
      "_model_module_version": "1.2.0",
      "_model_name": "LayoutModel",
      "_view_count": null,
      "_view_module": "@jupyter-widgets/base",
      "_view_module_version": "1.2.0",
      "_view_name": "LayoutView",
      "align_content": null,
      "align_items": null,
      "align_self": null,
      "border": null,
      "bottom": null,
      "display": null,
      "flex": null,
      "flex_flow": null,
      "grid_area": null,
      "grid_auto_columns": null,
      "grid_auto_flow": null,
      "grid_auto_rows": null,
      "grid_column": null,
      "grid_gap": null,
      "grid_row": null,
      "grid_template_areas": null,
      "grid_template_columns": null,
      "grid_template_rows": null,
      "height": null,
      "justify_content": null,
      "justify_items": null,
      "left": null,
      "margin": null,
      "max_height": null,
      "max_width": null,
      "min_height": null,
      "min_width": null,
      "object_fit": null,
      "object_position": null,
      "order": null,
      "overflow": null,
      "overflow_x": null,
      "overflow_y": null,
      "padding": null,
      "right": null,
      "top": null,
      "visibility": null,
      "width": null
     }
    },
    "0eff38c0d0cf434695f25aeec92f676f": {
     "model_module": "@jupyter-widgets/controls",
     "model_module_version": "1.5.0",
     "model_name": "HBoxModel",
     "state": {
      "_dom_classes": [],
      "_model_module": "@jupyter-widgets/controls",
      "_model_module_version": "1.5.0",
      "_model_name": "HBoxModel",
      "_view_count": null,
      "_view_module": "@jupyter-widgets/controls",
      "_view_module_version": "1.5.0",
      "_view_name": "HBoxView",
      "box_style": "",
      "children": [
       "IPY_MODEL_0f8251f89c2249a8bec07983c4340584",
       "IPY_MODEL_c7edfd3d42b34689a98ddd903d36da33",
       "IPY_MODEL_68c334f8ea6d493f8ff3336ab35a8470"
      ],
      "layout": "IPY_MODEL_d9e262cbd63c461797bb319e5f1a6148"
     }
    },
    "0f8251f89c2249a8bec07983c4340584": {
     "model_module": "@jupyter-widgets/controls",
     "model_module_version": "1.5.0",
     "model_name": "HTMLModel",
     "state": {
      "_dom_classes": [],
      "_model_module": "@jupyter-widgets/controls",
      "_model_module_version": "1.5.0",
      "_model_name": "HTMLModel",
      "_view_count": null,
      "_view_module": "@jupyter-widgets/controls",
      "_view_module_version": "1.5.0",
      "_view_name": "HTMLView",
      "description": "",
      "description_tooltip": null,
      "layout": "IPY_MODEL_deabbf1f66484e2893d4cc83872d3314",
      "placeholder": "​",
      "style": "IPY_MODEL_dd8627118595441db35bfb36505675df",
      "value": "Filter: 100%"
     }
    },
    "1063e17d88db4d9183c67adc5cec86a3": {
     "model_module": "@jupyter-widgets/controls",
     "model_module_version": "1.5.0",
     "model_name": "LabelModel",
     "state": {
      "_dom_classes": [],
      "_model_module": "@jupyter-widgets/controls",
      "_model_module_version": "1.5.0",
      "_model_name": "LabelModel",
      "_view_count": null,
      "_view_module": "@jupyter-widgets/controls",
      "_view_module_version": "1.5.0",
      "_view_name": "LabelView",
      "description": "",
      "description_tooltip": null,
      "layout": "IPY_MODEL_9176015d2d4041c3b15550a37618a2e1",
      "placeholder": "​",
      "style": "IPY_MODEL_89870024fbbe4b428d437ca0a18dee6d",
      "value": "Connecting..."
     }
    },
    "12dc14703b2a4dfb804116abee120bbc": {
     "model_module": "@jupyter-widgets/base",
     "model_module_version": "1.2.0",
     "model_name": "LayoutModel",
     "state": {
      "_model_module": "@jupyter-widgets/base",
      "_model_module_version": "1.2.0",
      "_model_name": "LayoutModel",
      "_view_count": null,
      "_view_module": "@jupyter-widgets/base",
      "_view_module_version": "1.2.0",
      "_view_name": "LayoutView",
      "align_content": null,
      "align_items": null,
      "align_self": null,
      "border": null,
      "bottom": null,
      "display": null,
      "flex": null,
      "flex_flow": null,
      "grid_area": null,
      "grid_auto_columns": null,
      "grid_auto_flow": null,
      "grid_auto_rows": null,
      "grid_column": null,
      "grid_gap": null,
      "grid_row": null,
      "grid_template_areas": null,
      "grid_template_columns": null,
      "grid_template_rows": null,
      "height": null,
      "justify_content": null,
      "justify_items": null,
      "left": null,
      "margin": null,
      "max_height": null,
      "max_width": null,
      "min_height": null,
      "min_width": null,
      "object_fit": null,
      "object_position": null,
      "order": null,
      "overflow": null,
      "overflow_x": null,
      "overflow_y": null,
      "padding": null,
      "right": null,
      "top": null,
      "visibility": null,
      "width": null
     }
    },
    "27914e82483d477da325998e4582c1fa": {
     "model_module": "@jupyter-widgets/base",
     "model_module_version": "1.2.0",
     "model_name": "LayoutModel",
     "state": {
      "_model_module": "@jupyter-widgets/base",
      "_model_module_version": "1.2.0",
      "_model_name": "LayoutModel",
      "_view_count": null,
      "_view_module": "@jupyter-widgets/base",
      "_view_module_version": "1.2.0",
      "_view_name": "LayoutView",
      "align_content": null,
      "align_items": null,
      "align_self": null,
      "border": null,
      "bottom": null,
      "display": null,
      "flex": null,
      "flex_flow": null,
      "grid_area": null,
      "grid_auto_columns": null,
      "grid_auto_flow": null,
      "grid_auto_rows": null,
      "grid_column": null,
      "grid_gap": null,
      "grid_row": null,
      "grid_template_areas": null,
      "grid_template_columns": null,
      "grid_template_rows": null,
      "height": null,
      "justify_content": null,
      "justify_items": null,
      "left": null,
      "margin": null,
      "max_height": null,
      "max_width": null,
      "min_height": null,
      "min_width": null,
      "object_fit": null,
      "object_position": null,
      "order": null,
      "overflow": null,
      "overflow_x": null,
      "overflow_y": null,
      "padding": null,
      "right": null,
      "top": null,
      "visibility": null,
      "width": null
     }
    },
    "298d1a3f55bd4d468638f36099b38b28": {
     "model_module": "@jupyter-widgets/controls",
     "model_module_version": "1.5.0",
     "model_name": "CheckboxModel",
     "state": {
      "_dom_classes": [],
      "_model_module": "@jupyter-widgets/controls",
      "_model_module_version": "1.5.0",
      "_model_name": "CheckboxModel",
      "_view_count": null,
      "_view_module": "@jupyter-widgets/controls",
      "_view_module_version": "1.5.0",
      "_view_name": "CheckboxView",
      "description": "Add token as git credential?",
      "description_tooltip": null,
      "disabled": false,
      "indent": true,
      "layout": "IPY_MODEL_0d29a7230f424d989b3557e1765f4801",
      "style": "IPY_MODEL_3efab549bbdb4fb6a287cf95fa7d1179",
      "value": true
     }
    },
    "2b02c1c96b2e40349c8c27994a554af5": {
     "model_module": "@jupyter-widgets/base",
     "model_module_version": "1.2.0",
     "model_name": "LayoutModel",
     "state": {
      "_model_module": "@jupyter-widgets/base",
      "_model_module_version": "1.2.0",
      "_model_name": "LayoutModel",
      "_view_count": null,
      "_view_module": "@jupyter-widgets/base",
      "_view_module_version": "1.2.0",
      "_view_name": "LayoutView",
      "align_content": null,
      "align_items": null,
      "align_self": null,
      "border": null,
      "bottom": null,
      "display": null,
      "flex": null,
      "flex_flow": null,
      "grid_area": null,
      "grid_auto_columns": null,
      "grid_auto_flow": null,
      "grid_auto_rows": null,
      "grid_column": null,
      "grid_gap": null,
      "grid_row": null,
      "grid_template_areas": null,
      "grid_template_columns": null,
      "grid_template_rows": null,
      "height": null,
      "justify_content": null,
      "justify_items": null,
      "left": null,
      "margin": null,
      "max_height": null,
      "max_width": null,
      "min_height": null,
      "min_width": null,
      "object_fit": null,
      "object_position": null,
      "order": null,
      "overflow": null,
      "overflow_x": null,
      "overflow_y": null,
      "padding": null,
      "right": null,
      "top": null,
      "visibility": null,
      "width": null
     }
    },
    "3122c80473ea46229099469b4283ec4f": {
     "model_module": "@jupyter-widgets/base",
     "model_module_version": "1.2.0",
     "model_name": "LayoutModel",
     "state": {
      "_model_module": "@jupyter-widgets/base",
      "_model_module_version": "1.2.0",
      "_model_name": "LayoutModel",
      "_view_count": null,
      "_view_module": "@jupyter-widgets/base",
      "_view_module_version": "1.2.0",
      "_view_name": "LayoutView",
      "align_content": null,
      "align_items": null,
      "align_self": null,
      "border": null,
      "bottom": null,
      "display": null,
      "flex": null,
      "flex_flow": null,
      "grid_area": null,
      "grid_auto_columns": null,
      "grid_auto_flow": null,
      "grid_auto_rows": null,
      "grid_column": null,
      "grid_gap": null,
      "grid_row": null,
      "grid_template_areas": null,
      "grid_template_columns": null,
      "grid_template_rows": null,
      "height": null,
      "justify_content": null,
      "justify_items": null,
      "left": null,
      "margin": null,
      "max_height": null,
      "max_width": null,
      "min_height": null,
      "min_width": null,
      "object_fit": null,
      "object_position": null,
      "order": null,
      "overflow": null,
      "overflow_x": null,
      "overflow_y": null,
      "padding": null,
      "right": null,
      "top": null,
      "visibility": null,
      "width": null
     }
    },
    "348d1a17648a437a89c7859396b00d4b": {
     "model_module": "@jupyter-widgets/controls",
     "model_module_version": "1.5.0",
     "model_name": "HBoxModel",
     "state": {
      "_dom_classes": [],
      "_model_module": "@jupyter-widgets/controls",
      "_model_module_version": "1.5.0",
      "_model_name": "HBoxModel",
      "_view_count": null,
      "_view_module": "@jupyter-widgets/controls",
      "_view_module_version": "1.5.0",
      "_view_name": "HBoxView",
      "box_style": "",
      "children": [
       "IPY_MODEL_bafbc872b1c54d879dbf3d9ea94d9e42",
       "IPY_MODEL_c111df2257174b90982782d45c204fe9",
       "IPY_MODEL_b8cc4441cb7846f4b4858280b19ced6d"
      ],
      "layout": "IPY_MODEL_12dc14703b2a4dfb804116abee120bbc"
     }
    },
    "3514e3095c80449697a443b1e92bbcaa": {
     "model_module": "@jupyter-widgets/base",
     "model_module_version": "1.2.0",
     "model_name": "LayoutModel",
     "state": {
      "_model_module": "@jupyter-widgets/base",
      "_model_module_version": "1.2.0",
      "_model_name": "LayoutModel",
      "_view_count": null,
      "_view_module": "@jupyter-widgets/base",
      "_view_module_version": "1.2.0",
      "_view_name": "LayoutView",
      "align_content": null,
      "align_items": null,
      "align_self": null,
      "border": null,
      "bottom": null,
      "display": null,
      "flex": null,
      "flex_flow": null,
      "grid_area": null,
      "grid_auto_columns": null,
      "grid_auto_flow": null,
      "grid_auto_rows": null,
      "grid_column": null,
      "grid_gap": null,
      "grid_row": null,
      "grid_template_areas": null,
      "grid_template_columns": null,
      "grid_template_rows": null,
      "height": null,
      "justify_content": null,
      "justify_items": null,
      "left": null,
      "margin": null,
      "max_height": null,
      "max_width": null,
      "min_height": null,
      "min_width": null,
      "object_fit": null,
      "object_position": null,
      "order": null,
      "overflow": null,
      "overflow_x": null,
      "overflow_y": null,
      "padding": null,
      "right": null,
      "top": null,
      "visibility": null,
      "width": null
     }
    },
    "35cd68462d114f568e90a495ef44f15f": {
     "model_module": "@jupyter-widgets/controls",
     "model_module_version": "1.5.0",
     "model_name": "HBoxModel",
     "state": {
      "_dom_classes": [],
      "_model_module": "@jupyter-widgets/controls",
      "_model_module_version": "1.5.0",
      "_model_name": "HBoxModel",
      "_view_count": null,
      "_view_module": "@jupyter-widgets/controls",
      "_view_module_version": "1.5.0",
      "_view_name": "HBoxView",
      "box_style": "",
      "children": [
       "IPY_MODEL_6fbf93178b064385aab9b3f7f22d9495",
       "IPY_MODEL_f1bbd3dc985749d0b2129a31c6305f1b",
       "IPY_MODEL_85909073723b4cfc97e9d366b6e00b46"
      ],
      "layout": "IPY_MODEL_f25da8feacb24007af7163a3c1bf84f1"
     }
    },
    "3d75583d13a1405e9ef694fccc1394b5": {
     "model_module": "@jupyter-widgets/controls",
     "model_module_version": "1.5.0",
     "model_name": "HTMLModel",
     "state": {
      "_dom_classes": [],
      "_model_module": "@jupyter-widgets/controls",
      "_model_module_version": "1.5.0",
      "_model_name": "HTMLModel",
      "_view_count": null,
      "_view_module": "@jupyter-widgets/controls",
      "_view_module_version": "1.5.0",
      "_view_name": "HTMLView",
      "description": "",
      "description_tooltip": null,
      "layout": "IPY_MODEL_f60a4b2da71d45f2912283e3a2fe0100",
      "placeholder": "​",
      "style": "IPY_MODEL_66a66990d20344fc91b925c7eedb611a",
      "value": "\n<b>Pro Tip:</b> If you don't already have one, you can create a dedicated\n'notebooks' token with 'write' access, that you can then easily reuse for all\nnotebooks. </center>"
     }
    },
    "3efab549bbdb4fb6a287cf95fa7d1179": {
     "model_module": "@jupyter-widgets/controls",
     "model_module_version": "1.5.0",
     "model_name": "DescriptionStyleModel",
     "state": {
      "_model_module": "@jupyter-widgets/controls",
      "_model_module_version": "1.5.0",
      "_model_name": "DescriptionStyleModel",
      "_view_count": null,
      "_view_module": "@jupyter-widgets/base",
      "_view_module_version": "1.2.0",
      "_view_name": "StyleView",
      "description_width": ""
     }
    },
    "4f8925a6119744d88c1a7a58898dae1c": {
     "model_module": "@jupyter-widgets/base",
     "model_module_version": "1.2.0",
     "model_name": "LayoutModel",
     "state": {
      "_model_module": "@jupyter-widgets/base",
      "_model_module_version": "1.2.0",
      "_model_name": "LayoutModel",
      "_view_count": null,
      "_view_module": "@jupyter-widgets/base",
      "_view_module_version": "1.2.0",
      "_view_name": "LayoutView",
      "align_content": null,
      "align_items": null,
      "align_self": null,
      "border": null,
      "bottom": null,
      "display": null,
      "flex": null,
      "flex_flow": null,
      "grid_area": null,
      "grid_auto_columns": null,
      "grid_auto_flow": null,
      "grid_auto_rows": null,
      "grid_column": null,
      "grid_gap": null,
      "grid_row": null,
      "grid_template_areas": null,
      "grid_template_columns": null,
      "grid_template_rows": null,
      "height": null,
      "justify_content": null,
      "justify_items": null,
      "left": null,
      "margin": null,
      "max_height": null,
      "max_width": null,
      "min_height": null,
      "min_width": null,
      "object_fit": null,
      "object_position": null,
      "order": null,
      "overflow": null,
      "overflow_x": null,
      "overflow_y": null,
      "padding": null,
      "right": null,
      "top": null,
      "visibility": null,
      "width": null
     }
    },
    "50ee5550c8884da38765956650f89661": {
     "model_module": "@jupyter-widgets/controls",
     "model_module_version": "1.5.0",
     "model_name": "ButtonStyleModel",
     "state": {
      "_model_module": "@jupyter-widgets/controls",
      "_model_module_version": "1.5.0",
      "_model_name": "ButtonStyleModel",
      "_view_count": null,
      "_view_module": "@jupyter-widgets/base",
      "_view_module_version": "1.2.0",
      "_view_name": "StyleView",
      "button_color": null,
      "font_weight": ""
     }
    },
    "5a32d2be2cb3428eaa9a28dc67acf88d": {
     "model_module": "@jupyter-widgets/controls",
     "model_module_version": "1.5.0",
     "model_name": "PasswordModel",
     "state": {
      "_dom_classes": [],
      "_model_module": "@jupyter-widgets/controls",
      "_model_module_version": "1.5.0",
      "_model_name": "PasswordModel",
      "_view_count": null,
      "_view_module": "@jupyter-widgets/controls",
      "_view_module_version": "1.5.0",
      "_view_name": "PasswordView",
      "continuous_update": true,
      "description": "Token:",
      "description_tooltip": null,
      "disabled": false,
      "layout": "IPY_MODEL_bdb0fd7012d7457ea469e94e0e95b8a1",
      "placeholder": "​",
      "style": "IPY_MODEL_f778ff8f9ee6422fb5346ee3c764a94a",
      "value": ""
     }
    },
    "66a66990d20344fc91b925c7eedb611a": {
     "model_module": "@jupyter-widgets/controls",
     "model_module_version": "1.5.0",
     "model_name": "DescriptionStyleModel",
     "state": {
      "_model_module": "@jupyter-widgets/controls",
      "_model_module_version": "1.5.0",
      "_model_name": "DescriptionStyleModel",
      "_view_count": null,
      "_view_module": "@jupyter-widgets/base",
      "_view_module_version": "1.2.0",
      "_view_name": "StyleView",
      "description_width": ""
     }
    },
    "68c334f8ea6d493f8ff3336ab35a8470": {
     "model_module": "@jupyter-widgets/controls",
     "model_module_version": "1.5.0",
     "model_name": "HTMLModel",
     "state": {
      "_dom_classes": [],
      "_model_module": "@jupyter-widgets/controls",
      "_model_module_version": "1.5.0",
      "_model_name": "HTMLModel",
      "_view_count": null,
      "_view_module": "@jupyter-widgets/controls",
      "_view_module_version": "1.5.0",
      "_view_name": "HTMLView",
      "description": "",
      "description_tooltip": null,
      "layout": "IPY_MODEL_3122c80473ea46229099469b4283ec4f",
      "placeholder": "​",
      "style": "IPY_MODEL_cdb8895ea92d47d4afe5f58eaa941998",
      "value": " 26961/26961 [00:02&lt;00:00, 11132.43 examples/s]"
     }
    },
    "6f587692bb864abd9ec379a118c09793": {
     "model_module": "@jupyter-widgets/controls",
     "model_module_version": "1.5.0",
     "model_name": "DescriptionStyleModel",
     "state": {
      "_model_module": "@jupyter-widgets/controls",
      "_model_module_version": "1.5.0",
      "_model_name": "DescriptionStyleModel",
      "_view_count": null,
      "_view_module": "@jupyter-widgets/base",
      "_view_module_version": "1.2.0",
      "_view_name": "StyleView",
      "description_width": ""
     }
    },
    "6fbf93178b064385aab9b3f7f22d9495": {
     "model_module": "@jupyter-widgets/controls",
     "model_module_version": "1.5.0",
     "model_name": "HTMLModel",
     "state": {
      "_dom_classes": [],
      "_model_module": "@jupyter-widgets/controls",
      "_model_module_version": "1.5.0",
      "_model_name": "HTMLModel",
      "_view_count": null,
      "_view_module": "@jupyter-widgets/controls",
      "_view_module_version": "1.5.0",
      "_view_name": "HTMLView",
      "description": "",
      "description_tooltip": null,
      "layout": "IPY_MODEL_7379e67dd86b4012be5d924140f12847",
      "placeholder": "​",
      "style": "IPY_MODEL_e72d3cdc4a3f4e2da1a5a2014d3fdaad",
      "value": "Map: 100%"
     }
    },
    "7379e67dd86b4012be5d924140f12847": {
     "model_module": "@jupyter-widgets/base",
     "model_module_version": "1.2.0",
     "model_name": "LayoutModel",
     "state": {
      "_model_module": "@jupyter-widgets/base",
      "_model_module_version": "1.2.0",
      "_model_name": "LayoutModel",
      "_view_count": null,
      "_view_module": "@jupyter-widgets/base",
      "_view_module_version": "1.2.0",
      "_view_name": "LayoutView",
      "align_content": null,
      "align_items": null,
      "align_self": null,
      "border": null,
      "bottom": null,
      "display": null,
      "flex": null,
      "flex_flow": null,
      "grid_area": null,
      "grid_auto_columns": null,
      "grid_auto_flow": null,
      "grid_auto_rows": null,
      "grid_column": null,
      "grid_gap": null,
      "grid_row": null,
      "grid_template_areas": null,
      "grid_template_columns": null,
      "grid_template_rows": null,
      "height": null,
      "justify_content": null,
      "justify_items": null,
      "left": null,
      "margin": null,
      "max_height": null,
      "max_width": null,
      "min_height": null,
      "min_width": null,
      "object_fit": null,
      "object_position": null,
      "order": null,
      "overflow": null,
      "overflow_x": null,
      "overflow_y": null,
      "padding": null,
      "right": null,
      "top": null,
      "visibility": null,
      "width": null
     }
    },
    "7c015f8399a04254a1b688481453e28a": {
     "model_module": "@jupyter-widgets/base",
     "model_module_version": "1.2.0",
     "model_name": "LayoutModel",
     "state": {
      "_model_module": "@jupyter-widgets/base",
      "_model_module_version": "1.2.0",
      "_model_name": "LayoutModel",
      "_view_count": null,
      "_view_module": "@jupyter-widgets/base",
      "_view_module_version": "1.2.0",
      "_view_name": "LayoutView",
      "align_content": null,
      "align_items": null,
      "align_self": null,
      "border": null,
      "bottom": null,
      "display": null,
      "flex": null,
      "flex_flow": null,
      "grid_area": null,
      "grid_auto_columns": null,
      "grid_auto_flow": null,
      "grid_auto_rows": null,
      "grid_column": null,
      "grid_gap": null,
      "grid_row": null,
      "grid_template_areas": null,
      "grid_template_columns": null,
      "grid_template_rows": null,
      "height": null,
      "justify_content": null,
      "justify_items": null,
      "left": null,
      "margin": null,
      "max_height": null,
      "max_width": null,
      "min_height": null,
      "min_width": null,
      "object_fit": null,
      "object_position": null,
      "order": null,
      "overflow": null,
      "overflow_x": null,
      "overflow_y": null,
      "padding": null,
      "right": null,
      "top": null,
      "visibility": null,
      "width": null
     }
    },
    "7f44338a4c144496ae77c4d8db3ce72a": {
     "model_module": "@jupyter-widgets/base",
     "model_module_version": "1.2.0",
     "model_name": "LayoutModel",
     "state": {
      "_model_module": "@jupyter-widgets/base",
      "_model_module_version": "1.2.0",
      "_model_name": "LayoutModel",
      "_view_count": null,
      "_view_module": "@jupyter-widgets/base",
      "_view_module_version": "1.2.0",
      "_view_name": "LayoutView",
      "align_content": null,
      "align_items": null,
      "align_self": null,
      "border": null,
      "bottom": null,
      "display": null,
      "flex": null,
      "flex_flow": null,
      "grid_area": null,
      "grid_auto_columns": null,
      "grid_auto_flow": null,
      "grid_auto_rows": null,
      "grid_column": null,
      "grid_gap": null,
      "grid_row": null,
      "grid_template_areas": null,
      "grid_template_columns": null,
      "grid_template_rows": null,
      "height": null,
      "justify_content": null,
      "justify_items": null,
      "left": null,
      "margin": null,
      "max_height": null,
      "max_width": null,
      "min_height": null,
      "min_width": null,
      "object_fit": null,
      "object_position": null,
      "order": null,
      "overflow": null,
      "overflow_x": null,
      "overflow_y": null,
      "padding": null,
      "right": null,
      "top": null,
      "visibility": null,
      "width": null
     }
    },
    "81713535813949b59afa2a2a110f1ad8": {
     "model_module": "@jupyter-widgets/base",
     "model_module_version": "1.2.0",
     "model_name": "LayoutModel",
     "state": {
      "_model_module": "@jupyter-widgets/base",
      "_model_module_version": "1.2.0",
      "_model_name": "LayoutModel",
      "_view_count": null,
      "_view_module": "@jupyter-widgets/base",
      "_view_module_version": "1.2.0",
      "_view_name": "LayoutView",
      "align_content": null,
      "align_items": null,
      "align_self": null,
      "border": null,
      "bottom": null,
      "display": null,
      "flex": null,
      "flex_flow": null,
      "grid_area": null,
      "grid_auto_columns": null,
      "grid_auto_flow": null,
      "grid_auto_rows": null,
      "grid_column": null,
      "grid_gap": null,
      "grid_row": null,
      "grid_template_areas": null,
      "grid_template_columns": null,
      "grid_template_rows": null,
      "height": null,
      "justify_content": null,
      "justify_items": null,
      "left": null,
      "margin": null,
      "max_height": null,
      "max_width": null,
      "min_height": null,
      "min_width": null,
      "object_fit": null,
      "object_position": null,
      "order": null,
      "overflow": null,
      "overflow_x": null,
      "overflow_y": null,
      "padding": null,
      "right": null,
      "top": null,
      "visibility": null,
      "width": null
     }
    },
    "85909073723b4cfc97e9d366b6e00b46": {
     "model_module": "@jupyter-widgets/controls",
     "model_module_version": "1.5.0",
     "model_name": "HTMLModel",
     "state": {
      "_dom_classes": [],
      "_model_module": "@jupyter-widgets/controls",
      "_model_module_version": "1.5.0",
      "_model_name": "HTMLModel",
      "_view_count": null,
      "_view_module": "@jupyter-widgets/controls",
      "_view_module_version": "1.5.0",
      "_view_name": "HTMLView",
      "description": "",
      "description_tooltip": null,
      "layout": "IPY_MODEL_4f8925a6119744d88c1a7a58898dae1c",
      "placeholder": "​",
      "style": "IPY_MODEL_6f587692bb864abd9ec379a118c09793",
      "value": " 26233/26233 [00:21&lt;00:00, 1466.37 examples/s]"
     }
    },
    "89870024fbbe4b428d437ca0a18dee6d": {
     "model_module": "@jupyter-widgets/controls",
     "model_module_version": "1.5.0",
     "model_name": "DescriptionStyleModel",
     "state": {
      "_model_module": "@jupyter-widgets/controls",
      "_model_module_version": "1.5.0",
      "_model_name": "DescriptionStyleModel",
      "_view_count": null,
      "_view_module": "@jupyter-widgets/base",
      "_view_module_version": "1.2.0",
      "_view_name": "StyleView",
      "description_width": ""
     }
    },
    "9176015d2d4041c3b15550a37618a2e1": {
     "model_module": "@jupyter-widgets/base",
     "model_module_version": "1.2.0",
     "model_name": "LayoutModel",
     "state": {
      "_model_module": "@jupyter-widgets/base",
      "_model_module_version": "1.2.0",
      "_model_name": "LayoutModel",
      "_view_count": null,
      "_view_module": "@jupyter-widgets/base",
      "_view_module_version": "1.2.0",
      "_view_name": "LayoutView",
      "align_content": null,
      "align_items": null,
      "align_self": null,
      "border": null,
      "bottom": null,
      "display": null,
      "flex": null,
      "flex_flow": null,
      "grid_area": null,
      "grid_auto_columns": null,
      "grid_auto_flow": null,
      "grid_auto_rows": null,
      "grid_column": null,
      "grid_gap": null,
      "grid_row": null,
      "grid_template_areas": null,
      "grid_template_columns": null,
      "grid_template_rows": null,
      "height": null,
      "justify_content": null,
      "justify_items": null,
      "left": null,
      "margin": null,
      "max_height": null,
      "max_width": null,
      "min_height": null,
      "min_width": null,
      "object_fit": null,
      "object_position": null,
      "order": null,
      "overflow": null,
      "overflow_x": null,
      "overflow_y": null,
      "padding": null,
      "right": null,
      "top": null,
      "visibility": null,
      "width": null
     }
    },
    "9682fdf66161486896d138a14bc6ca99": {
     "model_module": "@jupyter-widgets/controls",
     "model_module_version": "1.5.0",
     "model_name": "ButtonModel",
     "state": {
      "_dom_classes": [],
      "_model_module": "@jupyter-widgets/controls",
      "_model_module_version": "1.5.0",
      "_model_name": "ButtonModel",
      "_view_count": null,
      "_view_module": "@jupyter-widgets/controls",
      "_view_module_version": "1.5.0",
      "_view_name": "ButtonView",
      "button_style": "",
      "description": "Login",
      "disabled": false,
      "icon": "",
      "layout": "IPY_MODEL_27914e82483d477da325998e4582c1fa",
      "style": "IPY_MODEL_50ee5550c8884da38765956650f89661",
      "tooltip": ""
     }
    },
    "9ba04548595148d1b82bd9c3c4ff25e6": {
     "model_module": "@jupyter-widgets/controls",
     "model_module_version": "1.5.0",
     "model_name": "HTMLModel",
     "state": {
      "_dom_classes": [],
      "_model_module": "@jupyter-widgets/controls",
      "_model_module_version": "1.5.0",
      "_model_name": "HTMLModel",
      "_view_count": null,
      "_view_module": "@jupyter-widgets/controls",
      "_view_module_version": "1.5.0",
      "_view_name": "HTMLView",
      "description": "",
      "description_tooltip": null,
      "layout": "IPY_MODEL_81713535813949b59afa2a2a110f1ad8",
      "placeholder": "​",
      "style": "IPY_MODEL_a603195912644286a5b1a3e73ecb5d33",
      "value": "<center> <img\nsrc=https://huggingface.co/front/assets/huggingface_logo-noborder.svg\nalt='Hugging Face'> <br> Copy a token from <a\nhref=\"https://huggingface.co/settings/tokens\" target=\"_blank\">your Hugging Face\ntokens page</a> and paste it below. <br> Immediately click login after copying\nyour token or it might be stored in plain text in this notebook file. </center>"
     }
    },
    "a603195912644286a5b1a3e73ecb5d33": {
     "model_module": "@jupyter-widgets/controls",
     "model_module_version": "1.5.0",
     "model_name": "DescriptionStyleModel",
     "state": {
      "_model_module": "@jupyter-widgets/controls",
      "_model_module_version": "1.5.0",
      "_model_name": "DescriptionStyleModel",
      "_view_count": null,
      "_view_module": "@jupyter-widgets/base",
      "_view_module_version": "1.2.0",
      "_view_name": "StyleView",
      "description_width": ""
     }
    },
    "ab22bacf0f894de78162182967d1e43e": {
     "model_module": "@jupyter-widgets/controls",
     "model_module_version": "1.5.0",
     "model_name": "DescriptionStyleModel",
     "state": {
      "_model_module": "@jupyter-widgets/controls",
      "_model_module_version": "1.5.0",
      "_model_name": "DescriptionStyleModel",
      "_view_count": null,
      "_view_module": "@jupyter-widgets/base",
      "_view_module_version": "1.2.0",
      "_view_name": "StyleView",
      "description_width": ""
     }
    },
    "ac0216ffd71142cbb134bd322cb249f1": {
     "model_module": "@jupyter-widgets/base",
     "model_module_version": "1.2.0",
     "model_name": "LayoutModel",
     "state": {
      "_model_module": "@jupyter-widgets/base",
      "_model_module_version": "1.2.0",
      "_model_name": "LayoutModel",
      "_view_count": null,
      "_view_module": "@jupyter-widgets/base",
      "_view_module_version": "1.2.0",
      "_view_name": "LayoutView",
      "align_content": null,
      "align_items": null,
      "align_self": null,
      "border": null,
      "bottom": null,
      "display": null,
      "flex": null,
      "flex_flow": null,
      "grid_area": null,
      "grid_auto_columns": null,
      "grid_auto_flow": null,
      "grid_auto_rows": null,
      "grid_column": null,
      "grid_gap": null,
      "grid_row": null,
      "grid_template_areas": null,
      "grid_template_columns": null,
      "grid_template_rows": null,
      "height": null,
      "justify_content": null,
      "justify_items": null,
      "left": null,
      "margin": null,
      "max_height": null,
      "max_width": null,
      "min_height": null,
      "min_width": null,
      "object_fit": null,
      "object_position": null,
      "order": null,
      "overflow": null,
      "overflow_x": null,
      "overflow_y": null,
      "padding": null,
      "right": null,
      "top": null,
      "visibility": null,
      "width": null
     }
    },
    "afe6de0b7b1a4982adb21ee4439879e5": {
     "model_module": "@jupyter-widgets/controls",
     "model_module_version": "1.5.0",
     "model_name": "HTMLModel",
     "state": {
      "_dom_classes": [],
      "_model_module": "@jupyter-widgets/controls",
      "_model_module_version": "1.5.0",
      "_model_name": "HTMLModel",
      "_view_count": null,
      "_view_module": "@jupyter-widgets/controls",
      "_view_module_version": "1.5.0",
      "_view_name": "HTMLView",
      "description": "",
      "description_tooltip": null,
      "layout": "IPY_MODEL_0353001010f54bdb8f326c4f28b765b8",
      "placeholder": "​",
      "style": "IPY_MODEL_b8578a292b0347ed878bac56c8140fb7",
      "value": "Filter: 100%"
     }
    },
    "b1d8afd88e854f63bccaa5fb73e7fd8c": {
     "model_module": "@jupyter-widgets/controls",
     "model_module_version": "1.5.0",
     "model_name": "ProgressStyleModel",
     "state": {
      "_model_module": "@jupyter-widgets/controls",
      "_model_module_version": "1.5.0",
      "_model_name": "ProgressStyleModel",
      "_view_count": null,
      "_view_module": "@jupyter-widgets/base",
      "_view_module_version": "1.2.0",
      "_view_name": "StyleView",
      "bar_color": null,
      "description_width": ""
     }
    },
    "b58f613a168e4152b93567169de9b9d8": {
     "model_module": "@jupyter-widgets/controls",
     "model_module_version": "1.5.0",
     "model_name": "FloatProgressModel",
     "state": {
      "_dom_classes": [],
      "_model_module": "@jupyter-widgets/controls",
      "_model_module_version": "1.5.0",
      "_model_name": "FloatProgressModel",
      "_view_count": null,
      "_view_module": "@jupyter-widgets/controls",
      "_view_module_version": "1.5.0",
      "_view_name": "ProgressView",
      "bar_style": "success",
      "description": "",
      "description_tooltip": null,
      "layout": "IPY_MODEL_e6a1aef5a422469093ec85312dbabb43",
      "max": 26254,
      "min": 0,
      "orientation": "horizontal",
      "style": "IPY_MODEL_dbf4bb09a1314dcaac7df8e46d678455",
      "value": 26254
     }
    },
    "b8578a292b0347ed878bac56c8140fb7": {
     "model_module": "@jupyter-widgets/controls",
     "model_module_version": "1.5.0",
     "model_name": "DescriptionStyleModel",
     "state": {
      "_model_module": "@jupyter-widgets/controls",
      "_model_module_version": "1.5.0",
      "_model_name": "DescriptionStyleModel",
      "_view_count": null,
      "_view_module": "@jupyter-widgets/base",
      "_view_module_version": "1.2.0",
      "_view_name": "StyleView",
      "description_width": ""
     }
    },
    "b8cc4441cb7846f4b4858280b19ced6d": {
     "model_module": "@jupyter-widgets/controls",
     "model_module_version": "1.5.0",
     "model_name": "HTMLModel",
     "state": {
      "_dom_classes": [],
      "_model_module": "@jupyter-widgets/controls",
      "_model_module_version": "1.5.0",
      "_model_name": "HTMLModel",
      "_view_count": null,
      "_view_module": "@jupyter-widgets/controls",
      "_view_module_version": "1.5.0",
      "_view_name": "HTMLView",
      "description": "",
      "description_tooltip": null,
      "layout": "IPY_MODEL_ac0216ffd71142cbb134bd322cb249f1",
      "placeholder": "​",
      "style": "IPY_MODEL_ab22bacf0f894de78162182967d1e43e",
      "value": " 27/27 [00:03&lt;00:00,  7.95ba/s]"
     }
    },
    "bafbc872b1c54d879dbf3d9ea94d9e42": {
     "model_module": "@jupyter-widgets/controls",
     "model_module_version": "1.5.0",
     "model_name": "HTMLModel",
     "state": {
      "_dom_classes": [],
      "_model_module": "@jupyter-widgets/controls",
      "_model_module_version": "1.5.0",
      "_model_name": "HTMLModel",
      "_view_count": null,
      "_view_module": "@jupyter-widgets/controls",
      "_view_module_version": "1.5.0",
      "_view_name": "HTMLView",
      "description": "",
      "description_tooltip": null,
      "layout": "IPY_MODEL_de29f535cfc1455b8d9a58705fd41e8a",
      "placeholder": "​",
      "style": "IPY_MODEL_d5f3517a39c445d9abc1143b3a18dbd3",
      "value": "Creating CSV from Arrow format: 100%"
     }
    },
    "bdb0fd7012d7457ea469e94e0e95b8a1": {
     "model_module": "@jupyter-widgets/base",
     "model_module_version": "1.2.0",
     "model_name": "LayoutModel",
     "state": {
      "_model_module": "@jupyter-widgets/base",
      "_model_module_version": "1.2.0",
      "_model_name": "LayoutModel",
      "_view_count": null,
      "_view_module": "@jupyter-widgets/base",
      "_view_module_version": "1.2.0",
      "_view_name": "LayoutView",
      "align_content": null,
      "align_items": null,
      "align_self": null,
      "border": null,
      "bottom": null,
      "display": null,
      "flex": null,
      "flex_flow": null,
      "grid_area": null,
      "grid_auto_columns": null,
      "grid_auto_flow": null,
      "grid_auto_rows": null,
      "grid_column": null,
      "grid_gap": null,
      "grid_row": null,
      "grid_template_areas": null,
      "grid_template_columns": null,
      "grid_template_rows": null,
      "height": null,
      "justify_content": null,
      "justify_items": null,
      "left": null,
      "margin": null,
      "max_height": null,
      "max_width": null,
      "min_height": null,
      "min_width": null,
      "object_fit": null,
      "object_position": null,
      "order": null,
      "overflow": null,
      "overflow_x": null,
      "overflow_y": null,
      "padding": null,
      "right": null,
      "top": null,
      "visibility": null,
      "width": null
     }
    },
    "c111df2257174b90982782d45c204fe9": {
     "model_module": "@jupyter-widgets/controls",
     "model_module_version": "1.5.0",
     "model_name": "FloatProgressModel",
     "state": {
      "_dom_classes": [],
      "_model_module": "@jupyter-widgets/controls",
      "_model_module_version": "1.5.0",
      "_model_name": "FloatProgressModel",
      "_view_count": null,
      "_view_module": "@jupyter-widgets/controls",
      "_view_module_version": "1.5.0",
      "_view_name": "ProgressView",
      "bar_style": "success",
      "description": "",
      "description_tooltip": null,
      "layout": "IPY_MODEL_7c015f8399a04254a1b688481453e28a",
      "max": 27,
      "min": 0,
      "orientation": "horizontal",
      "style": "IPY_MODEL_c886b32884584316961dd3b64d981859",
      "value": 27
     }
    },
    "c7edfd3d42b34689a98ddd903d36da33": {
     "model_module": "@jupyter-widgets/controls",
     "model_module_version": "1.5.0",
     "model_name": "FloatProgressModel",
     "state": {
      "_dom_classes": [],
      "_model_module": "@jupyter-widgets/controls",
      "_model_module_version": "1.5.0",
      "_model_name": "FloatProgressModel",
      "_view_count": null,
      "_view_module": "@jupyter-widgets/controls",
      "_view_module_version": "1.5.0",
      "_view_name": "ProgressView",
      "bar_style": "success",
      "description": "",
      "description_tooltip": null,
      "layout": "IPY_MODEL_2b02c1c96b2e40349c8c27994a554af5",
      "max": 26961,
      "min": 0,
      "orientation": "horizontal",
      "style": "IPY_MODEL_b1d8afd88e854f63bccaa5fb73e7fd8c",
      "value": 26961
     }
    },
    "c886b32884584316961dd3b64d981859": {
     "model_module": "@jupyter-widgets/controls",
     "model_module_version": "1.5.0",
     "model_name": "ProgressStyleModel",
     "state": {
      "_model_module": "@jupyter-widgets/controls",
      "_model_module_version": "1.5.0",
      "_model_name": "ProgressStyleModel",
      "_view_count": null,
      "_view_module": "@jupyter-widgets/base",
      "_view_module_version": "1.2.0",
      "_view_name": "StyleView",
      "bar_color": null,
      "description_width": ""
     }
    },
    "cdb8895ea92d47d4afe5f58eaa941998": {
     "model_module": "@jupyter-widgets/controls",
     "model_module_version": "1.5.0",
     "model_name": "DescriptionStyleModel",
     "state": {
      "_model_module": "@jupyter-widgets/controls",
      "_model_module_version": "1.5.0",
      "_model_name": "DescriptionStyleModel",
      "_view_count": null,
      "_view_module": "@jupyter-widgets/base",
      "_view_module_version": "1.2.0",
      "_view_name": "StyleView",
      "description_width": ""
     }
    },
    "d5f3517a39c445d9abc1143b3a18dbd3": {
     "model_module": "@jupyter-widgets/controls",
     "model_module_version": "1.5.0",
     "model_name": "DescriptionStyleModel",
     "state": {
      "_model_module": "@jupyter-widgets/controls",
      "_model_module_version": "1.5.0",
      "_model_name": "DescriptionStyleModel",
      "_view_count": null,
      "_view_module": "@jupyter-widgets/base",
      "_view_module_version": "1.2.0",
      "_view_name": "StyleView",
      "description_width": ""
     }
    },
    "d9e262cbd63c461797bb319e5f1a6148": {
     "model_module": "@jupyter-widgets/base",
     "model_module_version": "1.2.0",
     "model_name": "LayoutModel",
     "state": {
      "_model_module": "@jupyter-widgets/base",
      "_model_module_version": "1.2.0",
      "_model_name": "LayoutModel",
      "_view_count": null,
      "_view_module": "@jupyter-widgets/base",
      "_view_module_version": "1.2.0",
      "_view_name": "LayoutView",
      "align_content": null,
      "align_items": null,
      "align_self": null,
      "border": null,
      "bottom": null,
      "display": null,
      "flex": null,
      "flex_flow": null,
      "grid_area": null,
      "grid_auto_columns": null,
      "grid_auto_flow": null,
      "grid_auto_rows": null,
      "grid_column": null,
      "grid_gap": null,
      "grid_row": null,
      "grid_template_areas": null,
      "grid_template_columns": null,
      "grid_template_rows": null,
      "height": null,
      "justify_content": null,
      "justify_items": null,
      "left": null,
      "margin": null,
      "max_height": null,
      "max_width": null,
      "min_height": null,
      "min_width": null,
      "object_fit": null,
      "object_position": null,
      "order": null,
      "overflow": null,
      "overflow_x": null,
      "overflow_y": null,
      "padding": null,
      "right": null,
      "top": null,
      "visibility": null,
      "width": null
     }
    },
    "dbf4bb09a1314dcaac7df8e46d678455": {
     "model_module": "@jupyter-widgets/controls",
     "model_module_version": "1.5.0",
     "model_name": "ProgressStyleModel",
     "state": {
      "_model_module": "@jupyter-widgets/controls",
      "_model_module_version": "1.5.0",
      "_model_name": "ProgressStyleModel",
      "_view_count": null,
      "_view_module": "@jupyter-widgets/base",
      "_view_module_version": "1.2.0",
      "_view_name": "StyleView",
      "bar_color": null,
      "description_width": ""
     }
    },
    "dd8627118595441db35bfb36505675df": {
     "model_module": "@jupyter-widgets/controls",
     "model_module_version": "1.5.0",
     "model_name": "DescriptionStyleModel",
     "state": {
      "_model_module": "@jupyter-widgets/controls",
      "_model_module_version": "1.5.0",
      "_model_name": "DescriptionStyleModel",
      "_view_count": null,
      "_view_module": "@jupyter-widgets/base",
      "_view_module_version": "1.2.0",
      "_view_name": "StyleView",
      "description_width": ""
     }
    },
    "de29f535cfc1455b8d9a58705fd41e8a": {
     "model_module": "@jupyter-widgets/base",
     "model_module_version": "1.2.0",
     "model_name": "LayoutModel",
     "state": {
      "_model_module": "@jupyter-widgets/base",
      "_model_module_version": "1.2.0",
      "_model_name": "LayoutModel",
      "_view_count": null,
      "_view_module": "@jupyter-widgets/base",
      "_view_module_version": "1.2.0",
      "_view_name": "LayoutView",
      "align_content": null,
      "align_items": null,
      "align_self": null,
      "border": null,
      "bottom": null,
      "display": null,
      "flex": null,
      "flex_flow": null,
      "grid_area": null,
      "grid_auto_columns": null,
      "grid_auto_flow": null,
      "grid_auto_rows": null,
      "grid_column": null,
      "grid_gap": null,
      "grid_row": null,
      "grid_template_areas": null,
      "grid_template_columns": null,
      "grid_template_rows": null,
      "height": null,
      "justify_content": null,
      "justify_items": null,
      "left": null,
      "margin": null,
      "max_height": null,
      "max_width": null,
      "min_height": null,
      "min_width": null,
      "object_fit": null,
      "object_position": null,
      "order": null,
      "overflow": null,
      "overflow_x": null,
      "overflow_y": null,
      "padding": null,
      "right": null,
      "top": null,
      "visibility": null,
      "width": null
     }
    },
    "deabbf1f66484e2893d4cc83872d3314": {
     "model_module": "@jupyter-widgets/base",
     "model_module_version": "1.2.0",
     "model_name": "LayoutModel",
     "state": {
      "_model_module": "@jupyter-widgets/base",
      "_model_module_version": "1.2.0",
      "_model_name": "LayoutModel",
      "_view_count": null,
      "_view_module": "@jupyter-widgets/base",
      "_view_module_version": "1.2.0",
      "_view_name": "LayoutView",
      "align_content": null,
      "align_items": null,
      "align_self": null,
      "border": null,
      "bottom": null,
      "display": null,
      "flex": null,
      "flex_flow": null,
      "grid_area": null,
      "grid_auto_columns": null,
      "grid_auto_flow": null,
      "grid_auto_rows": null,
      "grid_column": null,
      "grid_gap": null,
      "grid_row": null,
      "grid_template_areas": null,
      "grid_template_columns": null,
      "grid_template_rows": null,
      "height": null,
      "justify_content": null,
      "justify_items": null,
      "left": null,
      "margin": null,
      "max_height": null,
      "max_width": null,
      "min_height": null,
      "min_width": null,
      "object_fit": null,
      "object_position": null,
      "order": null,
      "overflow": null,
      "overflow_x": null,
      "overflow_y": null,
      "padding": null,
      "right": null,
      "top": null,
      "visibility": null,
      "width": null
     }
    },
    "e00722f9b548426791134750fbf52a69": {
     "model_module": "@jupyter-widgets/base",
     "model_module_version": "1.2.0",
     "model_name": "LayoutModel",
     "state": {
      "_model_module": "@jupyter-widgets/base",
      "_model_module_version": "1.2.0",
      "_model_name": "LayoutModel",
      "_view_count": null,
      "_view_module": "@jupyter-widgets/base",
      "_view_module_version": "1.2.0",
      "_view_name": "LayoutView",
      "align_content": null,
      "align_items": null,
      "align_self": null,
      "border": null,
      "bottom": null,
      "display": null,
      "flex": null,
      "flex_flow": null,
      "grid_area": null,
      "grid_auto_columns": null,
      "grid_auto_flow": null,
      "grid_auto_rows": null,
      "grid_column": null,
      "grid_gap": null,
      "grid_row": null,
      "grid_template_areas": null,
      "grid_template_columns": null,
      "grid_template_rows": null,
      "height": null,
      "justify_content": null,
      "justify_items": null,
      "left": null,
      "margin": null,
      "max_height": null,
      "max_width": null,
      "min_height": null,
      "min_width": null,
      "object_fit": null,
      "object_position": null,
      "order": null,
      "overflow": null,
      "overflow_x": null,
      "overflow_y": null,
      "padding": null,
      "right": null,
      "top": null,
      "visibility": null,
      "width": null
     }
    },
    "e6a1aef5a422469093ec85312dbabb43": {
     "model_module": "@jupyter-widgets/base",
     "model_module_version": "1.2.0",
     "model_name": "LayoutModel",
     "state": {
      "_model_module": "@jupyter-widgets/base",
      "_model_module_version": "1.2.0",
      "_model_name": "LayoutModel",
      "_view_count": null,
      "_view_module": "@jupyter-widgets/base",
      "_view_module_version": "1.2.0",
      "_view_name": "LayoutView",
      "align_content": null,
      "align_items": null,
      "align_self": null,
      "border": null,
      "bottom": null,
      "display": null,
      "flex": null,
      "flex_flow": null,
      "grid_area": null,
      "grid_auto_columns": null,
      "grid_auto_flow": null,
      "grid_auto_rows": null,
      "grid_column": null,
      "grid_gap": null,
      "grid_row": null,
      "grid_template_areas": null,
      "grid_template_columns": null,
      "grid_template_rows": null,
      "height": null,
      "justify_content": null,
      "justify_items": null,
      "left": null,
      "margin": null,
      "max_height": null,
      "max_width": null,
      "min_height": null,
      "min_width": null,
      "object_fit": null,
      "object_position": null,
      "order": null,
      "overflow": null,
      "overflow_x": null,
      "overflow_y": null,
      "padding": null,
      "right": null,
      "top": null,
      "visibility": null,
      "width": null
     }
    },
    "e72d3cdc4a3f4e2da1a5a2014d3fdaad": {
     "model_module": "@jupyter-widgets/controls",
     "model_module_version": "1.5.0",
     "model_name": "DescriptionStyleModel",
     "state": {
      "_model_module": "@jupyter-widgets/controls",
      "_model_module_version": "1.5.0",
      "_model_name": "DescriptionStyleModel",
      "_view_count": null,
      "_view_module": "@jupyter-widgets/base",
      "_view_module_version": "1.2.0",
      "_view_name": "StyleView",
      "description_width": ""
     }
    },
    "e895ae9db13c4bdead58e6192e9f6219": {
     "model_module": "@jupyter-widgets/controls",
     "model_module_version": "1.5.0",
     "model_name": "HBoxModel",
     "state": {
      "_dom_classes": [],
      "_model_module": "@jupyter-widgets/controls",
      "_model_module_version": "1.5.0",
      "_model_name": "HBoxModel",
      "_view_count": null,
      "_view_module": "@jupyter-widgets/controls",
      "_view_module_version": "1.5.0",
      "_view_name": "HBoxView",
      "box_style": "",
      "children": [
       "IPY_MODEL_afe6de0b7b1a4982adb21ee4439879e5",
       "IPY_MODEL_b58f613a168e4152b93567169de9b9d8",
       "IPY_MODEL_036d6f6305014aa28ba7c44d432a183d"
      ],
      "layout": "IPY_MODEL_3514e3095c80449697a443b1e92bbcaa"
     }
    },
    "edf351e685ed4162a9cd56a67bf2f77c": {
     "model_module": "@jupyter-widgets/controls",
     "model_module_version": "1.5.0",
     "model_name": "VBoxModel",
     "state": {
      "_dom_classes": [],
      "_model_module": "@jupyter-widgets/controls",
      "_model_module_version": "1.5.0",
      "_model_name": "VBoxModel",
      "_view_count": null,
      "_view_module": "@jupyter-widgets/controls",
      "_view_module_version": "1.5.0",
      "_view_name": "VBoxView",
      "box_style": "",
      "children": [],
      "layout": "IPY_MODEL_edf8a6859e924804a25d842af099360d"
     }
    },
    "edf8a6859e924804a25d842af099360d": {
     "model_module": "@jupyter-widgets/base",
     "model_module_version": "1.2.0",
     "model_name": "LayoutModel",
     "state": {
      "_model_module": "@jupyter-widgets/base",
      "_model_module_version": "1.2.0",
      "_model_name": "LayoutModel",
      "_view_count": null,
      "_view_module": "@jupyter-widgets/base",
      "_view_module_version": "1.2.0",
      "_view_name": "LayoutView",
      "align_content": null,
      "align_items": "center",
      "align_self": null,
      "border": null,
      "bottom": null,
      "display": "flex",
      "flex": null,
      "flex_flow": "column",
      "grid_area": null,
      "grid_auto_columns": null,
      "grid_auto_flow": null,
      "grid_auto_rows": null,
      "grid_column": null,
      "grid_gap": null,
      "grid_row": null,
      "grid_template_areas": null,
      "grid_template_columns": null,
      "grid_template_rows": null,
      "height": null,
      "justify_content": null,
      "justify_items": null,
      "left": null,
      "margin": null,
      "max_height": null,
      "max_width": null,
      "min_height": null,
      "min_width": null,
      "object_fit": null,
      "object_position": null,
      "order": null,
      "overflow": null,
      "overflow_x": null,
      "overflow_y": null,
      "padding": null,
      "right": null,
      "top": null,
      "visibility": null,
      "width": "50%"
     }
    },
    "f1bbd3dc985749d0b2129a31c6305f1b": {
     "model_module": "@jupyter-widgets/controls",
     "model_module_version": "1.5.0",
     "model_name": "FloatProgressModel",
     "state": {
      "_dom_classes": [],
      "_model_module": "@jupyter-widgets/controls",
      "_model_module_version": "1.5.0",
      "_model_name": "FloatProgressModel",
      "_view_count": null,
      "_view_module": "@jupyter-widgets/controls",
      "_view_module_version": "1.5.0",
      "_view_name": "ProgressView",
      "bar_style": "success",
      "description": "",
      "description_tooltip": null,
      "layout": "IPY_MODEL_7f44338a4c144496ae77c4d8db3ce72a",
      "max": 26233,
      "min": 0,
      "orientation": "horizontal",
      "style": "IPY_MODEL_f375d4e5c53e4b02b9a94d2635da45bc",
      "value": 26233
     }
    },
    "f25da8feacb24007af7163a3c1bf84f1": {
     "model_module": "@jupyter-widgets/base",
     "model_module_version": "1.2.0",
     "model_name": "LayoutModel",
     "state": {
      "_model_module": "@jupyter-widgets/base",
      "_model_module_version": "1.2.0",
      "_model_name": "LayoutModel",
      "_view_count": null,
      "_view_module": "@jupyter-widgets/base",
      "_view_module_version": "1.2.0",
      "_view_name": "LayoutView",
      "align_content": null,
      "align_items": null,
      "align_self": null,
      "border": null,
      "bottom": null,
      "display": null,
      "flex": null,
      "flex_flow": null,
      "grid_area": null,
      "grid_auto_columns": null,
      "grid_auto_flow": null,
      "grid_auto_rows": null,
      "grid_column": null,
      "grid_gap": null,
      "grid_row": null,
      "grid_template_areas": null,
      "grid_template_columns": null,
      "grid_template_rows": null,
      "height": null,
      "justify_content": null,
      "justify_items": null,
      "left": null,
      "margin": null,
      "max_height": null,
      "max_width": null,
      "min_height": null,
      "min_width": null,
      "object_fit": null,
      "object_position": null,
      "order": null,
      "overflow": null,
      "overflow_x": null,
      "overflow_y": null,
      "padding": null,
      "right": null,
      "top": null,
      "visibility": null,
      "width": null
     }
    },
    "f375d4e5c53e4b02b9a94d2635da45bc": {
     "model_module": "@jupyter-widgets/controls",
     "model_module_version": "1.5.0",
     "model_name": "ProgressStyleModel",
     "state": {
      "_model_module": "@jupyter-widgets/controls",
      "_model_module_version": "1.5.0",
      "_model_name": "ProgressStyleModel",
      "_view_count": null,
      "_view_module": "@jupyter-widgets/base",
      "_view_module_version": "1.2.0",
      "_view_name": "StyleView",
      "bar_color": null,
      "description_width": ""
     }
    },
    "f60a4b2da71d45f2912283e3a2fe0100": {
     "model_module": "@jupyter-widgets/base",
     "model_module_version": "1.2.0",
     "model_name": "LayoutModel",
     "state": {
      "_model_module": "@jupyter-widgets/base",
      "_model_module_version": "1.2.0",
      "_model_name": "LayoutModel",
      "_view_count": null,
      "_view_module": "@jupyter-widgets/base",
      "_view_module_version": "1.2.0",
      "_view_name": "LayoutView",
      "align_content": null,
      "align_items": null,
      "align_self": null,
      "border": null,
      "bottom": null,
      "display": null,
      "flex": null,
      "flex_flow": null,
      "grid_area": null,
      "grid_auto_columns": null,
      "grid_auto_flow": null,
      "grid_auto_rows": null,
      "grid_column": null,
      "grid_gap": null,
      "grid_row": null,
      "grid_template_areas": null,
      "grid_template_columns": null,
      "grid_template_rows": null,
      "height": null,
      "justify_content": null,
      "justify_items": null,
      "left": null,
      "margin": null,
      "max_height": null,
      "max_width": null,
      "min_height": null,
      "min_width": null,
      "object_fit": null,
      "object_position": null,
      "order": null,
      "overflow": null,
      "overflow_x": null,
      "overflow_y": null,
      "padding": null,
      "right": null,
      "top": null,
      "visibility": null,
      "width": null
     }
    },
    "f778ff8f9ee6422fb5346ee3c764a94a": {
     "model_module": "@jupyter-widgets/controls",
     "model_module_version": "1.5.0",
     "model_name": "DescriptionStyleModel",
     "state": {
      "_model_module": "@jupyter-widgets/controls",
      "_model_module_version": "1.5.0",
      "_model_name": "DescriptionStyleModel",
      "_view_count": null,
      "_view_module": "@jupyter-widgets/base",
      "_view_module_version": "1.2.0",
      "_view_name": "StyleView",
      "description_width": ""
     }
    },
    "fd3fc6d8b41346afa0604124ac6522ec": {
     "model_module": "@jupyter-widgets/controls",
     "model_module_version": "1.5.0",
     "model_name": "DescriptionStyleModel",
     "state": {
      "_model_module": "@jupyter-widgets/controls",
      "_model_module_version": "1.5.0",
      "_model_name": "DescriptionStyleModel",
      "_view_count": null,
      "_view_module": "@jupyter-widgets/base",
      "_view_module_version": "1.2.0",
      "_view_name": "StyleView",
      "description_width": ""
     }
    }
   }
  }
 },
 "nbformat": 4,
 "nbformat_minor": 1
}
